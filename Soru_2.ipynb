{
  "nbformat": 4,
  "nbformat_minor": 0,
  "metadata": {
    "colab": {
      "name": "Soru-2.ipynb",
      "provenance": [],
      "collapsed_sections": [],
      "toc_visible": true
    },
    "kernelspec": {
      "name": "python3",
      "display_name": "Python 3"
    },
    "language_info": {
      "name": "python"
    }
  },
  "cells": [
    {
      "cell_type": "markdown",
      "metadata": {
        "id": "V3Nisl7ExQRc"
      },
      "source": [
        "# SORU 2"
      ]
    },
    {
      "cell_type": "markdown",
      "metadata": {
        "id": "XbS3RSrhuouz"
      },
      "source": [
        "`2.` **Ekli data üzerindeki aşağıda yer alan kolonların count, mean, std, min, 25%, 50%, 75%, max değerlerini ve IQR metoduyla outlier kalan veri sayısını çıkartıp, bu değerleri sözel ve karşılaştırmalı olarak yorumlayalım.**"
      ]
    },
    {
      "cell_type": "code",
      "metadata": {
        "id": "poAHpzytttZA"
      },
      "source": [
        "import pandas as pd\n",
        "import seaborn as sns"
      ],
      "execution_count": null,
      "outputs": []
    },
    {
      "cell_type": "code",
      "metadata": {
        "colab": {
          "base_uri": "https://localhost:8080/",
          "height": 238
        },
        "id": "ERXJ-LXmtqqF",
        "outputId": "208ef551-6c76-472e-cd2d-25bebd0494cc"
      },
      "source": [
        "# Verilen .csv dosyası .read_csv() metoduyla okundu.\n",
        "\n",
        "df = pd.read_csv(\"data.csv\")\n",
        "df.head()"
      ],
      "execution_count": null,
      "outputs": [
        {
          "output_type": "execute_result",
          "data": {
            "text/html": [
              "<div>\n",
              "<style scoped>\n",
              "    .dataframe tbody tr th:only-of-type {\n",
              "        vertical-align: middle;\n",
              "    }\n",
              "\n",
              "    .dataframe tbody tr th {\n",
              "        vertical-align: top;\n",
              "    }\n",
              "\n",
              "    .dataframe thead th {\n",
              "        text-align: right;\n",
              "    }\n",
              "</style>\n",
              "<table border=\"1\" class=\"dataframe\">\n",
              "  <thead>\n",
              "    <tr style=\"text-align: right;\">\n",
              "      <th></th>\n",
              "      <th>id</th>\n",
              "      <th>diagnosis</th>\n",
              "      <th>radius_mean</th>\n",
              "      <th>texture_mean</th>\n",
              "      <th>perimeter_mean</th>\n",
              "      <th>area_mean</th>\n",
              "      <th>smoothness_mean</th>\n",
              "      <th>compactness_mean</th>\n",
              "      <th>concavity_mean</th>\n",
              "      <th>concave points_mean</th>\n",
              "      <th>symmetry_mean</th>\n",
              "      <th>fractal_dimension_mean</th>\n",
              "      <th>radius_se</th>\n",
              "      <th>texture_se</th>\n",
              "      <th>perimeter_se</th>\n",
              "      <th>area_se</th>\n",
              "      <th>smoothness_se</th>\n",
              "      <th>compactness_se</th>\n",
              "      <th>concavity_se</th>\n",
              "      <th>concave points_se</th>\n",
              "      <th>symmetry_se</th>\n",
              "      <th>fractal_dimension_se</th>\n",
              "      <th>radius_worst</th>\n",
              "      <th>texture_worst</th>\n",
              "      <th>perimeter_worst</th>\n",
              "      <th>area_worst</th>\n",
              "      <th>smoothness_worst</th>\n",
              "      <th>compactness_worst</th>\n",
              "      <th>concavity_worst</th>\n",
              "      <th>concave points_worst</th>\n",
              "      <th>symmetry_worst</th>\n",
              "      <th>fractal_dimension_worst</th>\n",
              "      <th>Unnamed: 32</th>\n",
              "    </tr>\n",
              "  </thead>\n",
              "  <tbody>\n",
              "    <tr>\n",
              "      <th>0</th>\n",
              "      <td>842302</td>\n",
              "      <td>M</td>\n",
              "      <td>17.99</td>\n",
              "      <td>10.38</td>\n",
              "      <td>122.80</td>\n",
              "      <td>1001.0</td>\n",
              "      <td>0.11840</td>\n",
              "      <td>0.27760</td>\n",
              "      <td>0.3001</td>\n",
              "      <td>0.14710</td>\n",
              "      <td>0.2419</td>\n",
              "      <td>0.07871</td>\n",
              "      <td>1.0950</td>\n",
              "      <td>0.9053</td>\n",
              "      <td>8.589</td>\n",
              "      <td>153.40</td>\n",
              "      <td>0.006399</td>\n",
              "      <td>0.04904</td>\n",
              "      <td>0.05373</td>\n",
              "      <td>0.01587</td>\n",
              "      <td>0.03003</td>\n",
              "      <td>0.006193</td>\n",
              "      <td>25.38</td>\n",
              "      <td>17.33</td>\n",
              "      <td>184.60</td>\n",
              "      <td>2019.0</td>\n",
              "      <td>0.1622</td>\n",
              "      <td>0.6656</td>\n",
              "      <td>0.7119</td>\n",
              "      <td>0.2654</td>\n",
              "      <td>0.4601</td>\n",
              "      <td>0.11890</td>\n",
              "      <td>NaN</td>\n",
              "    </tr>\n",
              "    <tr>\n",
              "      <th>1</th>\n",
              "      <td>842517</td>\n",
              "      <td>M</td>\n",
              "      <td>20.57</td>\n",
              "      <td>17.77</td>\n",
              "      <td>132.90</td>\n",
              "      <td>1326.0</td>\n",
              "      <td>0.08474</td>\n",
              "      <td>0.07864</td>\n",
              "      <td>0.0869</td>\n",
              "      <td>0.07017</td>\n",
              "      <td>0.1812</td>\n",
              "      <td>0.05667</td>\n",
              "      <td>0.5435</td>\n",
              "      <td>0.7339</td>\n",
              "      <td>3.398</td>\n",
              "      <td>74.08</td>\n",
              "      <td>0.005225</td>\n",
              "      <td>0.01308</td>\n",
              "      <td>0.01860</td>\n",
              "      <td>0.01340</td>\n",
              "      <td>0.01389</td>\n",
              "      <td>0.003532</td>\n",
              "      <td>24.99</td>\n",
              "      <td>23.41</td>\n",
              "      <td>158.80</td>\n",
              "      <td>1956.0</td>\n",
              "      <td>0.1238</td>\n",
              "      <td>0.1866</td>\n",
              "      <td>0.2416</td>\n",
              "      <td>0.1860</td>\n",
              "      <td>0.2750</td>\n",
              "      <td>0.08902</td>\n",
              "      <td>NaN</td>\n",
              "    </tr>\n",
              "    <tr>\n",
              "      <th>2</th>\n",
              "      <td>84300903</td>\n",
              "      <td>M</td>\n",
              "      <td>19.69</td>\n",
              "      <td>21.25</td>\n",
              "      <td>130.00</td>\n",
              "      <td>1203.0</td>\n",
              "      <td>0.10960</td>\n",
              "      <td>0.15990</td>\n",
              "      <td>0.1974</td>\n",
              "      <td>0.12790</td>\n",
              "      <td>0.2069</td>\n",
              "      <td>0.05999</td>\n",
              "      <td>0.7456</td>\n",
              "      <td>0.7869</td>\n",
              "      <td>4.585</td>\n",
              "      <td>94.03</td>\n",
              "      <td>0.006150</td>\n",
              "      <td>0.04006</td>\n",
              "      <td>0.03832</td>\n",
              "      <td>0.02058</td>\n",
              "      <td>0.02250</td>\n",
              "      <td>0.004571</td>\n",
              "      <td>23.57</td>\n",
              "      <td>25.53</td>\n",
              "      <td>152.50</td>\n",
              "      <td>1709.0</td>\n",
              "      <td>0.1444</td>\n",
              "      <td>0.4245</td>\n",
              "      <td>0.4504</td>\n",
              "      <td>0.2430</td>\n",
              "      <td>0.3613</td>\n",
              "      <td>0.08758</td>\n",
              "      <td>NaN</td>\n",
              "    </tr>\n",
              "    <tr>\n",
              "      <th>3</th>\n",
              "      <td>84348301</td>\n",
              "      <td>M</td>\n",
              "      <td>11.42</td>\n",
              "      <td>20.38</td>\n",
              "      <td>77.58</td>\n",
              "      <td>386.1</td>\n",
              "      <td>0.14250</td>\n",
              "      <td>0.28390</td>\n",
              "      <td>0.2414</td>\n",
              "      <td>0.10520</td>\n",
              "      <td>0.2597</td>\n",
              "      <td>0.09744</td>\n",
              "      <td>0.4956</td>\n",
              "      <td>1.1560</td>\n",
              "      <td>3.445</td>\n",
              "      <td>27.23</td>\n",
              "      <td>0.009110</td>\n",
              "      <td>0.07458</td>\n",
              "      <td>0.05661</td>\n",
              "      <td>0.01867</td>\n",
              "      <td>0.05963</td>\n",
              "      <td>0.009208</td>\n",
              "      <td>14.91</td>\n",
              "      <td>26.50</td>\n",
              "      <td>98.87</td>\n",
              "      <td>567.7</td>\n",
              "      <td>0.2098</td>\n",
              "      <td>0.8663</td>\n",
              "      <td>0.6869</td>\n",
              "      <td>0.2575</td>\n",
              "      <td>0.6638</td>\n",
              "      <td>0.17300</td>\n",
              "      <td>NaN</td>\n",
              "    </tr>\n",
              "    <tr>\n",
              "      <th>4</th>\n",
              "      <td>84358402</td>\n",
              "      <td>M</td>\n",
              "      <td>20.29</td>\n",
              "      <td>14.34</td>\n",
              "      <td>135.10</td>\n",
              "      <td>1297.0</td>\n",
              "      <td>0.10030</td>\n",
              "      <td>0.13280</td>\n",
              "      <td>0.1980</td>\n",
              "      <td>0.10430</td>\n",
              "      <td>0.1809</td>\n",
              "      <td>0.05883</td>\n",
              "      <td>0.7572</td>\n",
              "      <td>0.7813</td>\n",
              "      <td>5.438</td>\n",
              "      <td>94.44</td>\n",
              "      <td>0.011490</td>\n",
              "      <td>0.02461</td>\n",
              "      <td>0.05688</td>\n",
              "      <td>0.01885</td>\n",
              "      <td>0.01756</td>\n",
              "      <td>0.005115</td>\n",
              "      <td>22.54</td>\n",
              "      <td>16.67</td>\n",
              "      <td>152.20</td>\n",
              "      <td>1575.0</td>\n",
              "      <td>0.1374</td>\n",
              "      <td>0.2050</td>\n",
              "      <td>0.4000</td>\n",
              "      <td>0.1625</td>\n",
              "      <td>0.2364</td>\n",
              "      <td>0.07678</td>\n",
              "      <td>NaN</td>\n",
              "    </tr>\n",
              "  </tbody>\n",
              "</table>\n",
              "</div>"
            ],
            "text/plain": [
              "         id diagnosis  ...  fractal_dimension_worst  Unnamed: 32\n",
              "0    842302         M  ...                  0.11890          NaN\n",
              "1    842517         M  ...                  0.08902          NaN\n",
              "2  84300903         M  ...                  0.08758          NaN\n",
              "3  84348301         M  ...                  0.17300          NaN\n",
              "4  84358402         M  ...                  0.07678          NaN\n",
              "\n",
              "[5 rows x 33 columns]"
            ]
          },
          "metadata": {},
          "execution_count": 11
        }
      ]
    },
    {
      "cell_type": "code",
      "metadata": {
        "colab": {
          "base_uri": "https://localhost:8080/"
        },
        "id": "nbPNf3vjt7Uw",
        "outputId": "5bd0014f-5936-4e1e-dc42-6a6791143ce6"
      },
      "source": [
        "# Datamızdaki eksik verileri listelendi.\n",
        "\n",
        "df.isnull().sum()"
      ],
      "execution_count": null,
      "outputs": [
        {
          "output_type": "execute_result",
          "data": {
            "text/plain": [
              "id                           0\n",
              "diagnosis                    0\n",
              "radius_mean                  0\n",
              "texture_mean                 0\n",
              "perimeter_mean               0\n",
              "area_mean                    0\n",
              "smoothness_mean              0\n",
              "compactness_mean             0\n",
              "concavity_mean               0\n",
              "concave points_mean          0\n",
              "symmetry_mean                0\n",
              "fractal_dimension_mean       0\n",
              "radius_se                    0\n",
              "texture_se                   0\n",
              "perimeter_se                 0\n",
              "area_se                      0\n",
              "smoothness_se                0\n",
              "compactness_se               0\n",
              "concavity_se                 0\n",
              "concave points_se            0\n",
              "symmetry_se                  0\n",
              "fractal_dimension_se         0\n",
              "radius_worst                 0\n",
              "texture_worst                0\n",
              "perimeter_worst              0\n",
              "area_worst                   0\n",
              "smoothness_worst             0\n",
              "compactness_worst            0\n",
              "concavity_worst              0\n",
              "concave points_worst         0\n",
              "symmetry_worst               0\n",
              "fractal_dimension_worst      0\n",
              "Unnamed: 32                569\n",
              "dtype: int64"
            ]
          },
          "metadata": {},
          "execution_count": 12
        }
      ]
    },
    {
      "cell_type": "code",
      "metadata": {
        "colab": {
          "base_uri": "https://localhost:8080/",
          "height": 238
        },
        "id": "e96me9XEt7S6",
        "outputId": "a5e1c33a-56d8-46e6-d0b2-db772c5843c7"
      },
      "source": [
        "# .drop metoduyla gereksiz kolonlardan arındırıldı.\n",
        "\n",
        "df = df.drop([\"Unnamed: 32\",\"id\"],axis=1)\n",
        "df.head()"
      ],
      "execution_count": null,
      "outputs": [
        {
          "output_type": "execute_result",
          "data": {
            "text/html": [
              "<div>\n",
              "<style scoped>\n",
              "    .dataframe tbody tr th:only-of-type {\n",
              "        vertical-align: middle;\n",
              "    }\n",
              "\n",
              "    .dataframe tbody tr th {\n",
              "        vertical-align: top;\n",
              "    }\n",
              "\n",
              "    .dataframe thead th {\n",
              "        text-align: right;\n",
              "    }\n",
              "</style>\n",
              "<table border=\"1\" class=\"dataframe\">\n",
              "  <thead>\n",
              "    <tr style=\"text-align: right;\">\n",
              "      <th></th>\n",
              "      <th>diagnosis</th>\n",
              "      <th>radius_mean</th>\n",
              "      <th>texture_mean</th>\n",
              "      <th>perimeter_mean</th>\n",
              "      <th>area_mean</th>\n",
              "      <th>smoothness_mean</th>\n",
              "      <th>compactness_mean</th>\n",
              "      <th>concavity_mean</th>\n",
              "      <th>concave points_mean</th>\n",
              "      <th>symmetry_mean</th>\n",
              "      <th>fractal_dimension_mean</th>\n",
              "      <th>radius_se</th>\n",
              "      <th>texture_se</th>\n",
              "      <th>perimeter_se</th>\n",
              "      <th>area_se</th>\n",
              "      <th>smoothness_se</th>\n",
              "      <th>compactness_se</th>\n",
              "      <th>concavity_se</th>\n",
              "      <th>concave points_se</th>\n",
              "      <th>symmetry_se</th>\n",
              "      <th>fractal_dimension_se</th>\n",
              "      <th>radius_worst</th>\n",
              "      <th>texture_worst</th>\n",
              "      <th>perimeter_worst</th>\n",
              "      <th>area_worst</th>\n",
              "      <th>smoothness_worst</th>\n",
              "      <th>compactness_worst</th>\n",
              "      <th>concavity_worst</th>\n",
              "      <th>concave points_worst</th>\n",
              "      <th>symmetry_worst</th>\n",
              "      <th>fractal_dimension_worst</th>\n",
              "    </tr>\n",
              "  </thead>\n",
              "  <tbody>\n",
              "    <tr>\n",
              "      <th>0</th>\n",
              "      <td>M</td>\n",
              "      <td>17.99</td>\n",
              "      <td>10.38</td>\n",
              "      <td>122.80</td>\n",
              "      <td>1001.0</td>\n",
              "      <td>0.11840</td>\n",
              "      <td>0.27760</td>\n",
              "      <td>0.3001</td>\n",
              "      <td>0.14710</td>\n",
              "      <td>0.2419</td>\n",
              "      <td>0.07871</td>\n",
              "      <td>1.0950</td>\n",
              "      <td>0.9053</td>\n",
              "      <td>8.589</td>\n",
              "      <td>153.40</td>\n",
              "      <td>0.006399</td>\n",
              "      <td>0.04904</td>\n",
              "      <td>0.05373</td>\n",
              "      <td>0.01587</td>\n",
              "      <td>0.03003</td>\n",
              "      <td>0.006193</td>\n",
              "      <td>25.38</td>\n",
              "      <td>17.33</td>\n",
              "      <td>184.60</td>\n",
              "      <td>2019.0</td>\n",
              "      <td>0.1622</td>\n",
              "      <td>0.6656</td>\n",
              "      <td>0.7119</td>\n",
              "      <td>0.2654</td>\n",
              "      <td>0.4601</td>\n",
              "      <td>0.11890</td>\n",
              "    </tr>\n",
              "    <tr>\n",
              "      <th>1</th>\n",
              "      <td>M</td>\n",
              "      <td>20.57</td>\n",
              "      <td>17.77</td>\n",
              "      <td>132.90</td>\n",
              "      <td>1326.0</td>\n",
              "      <td>0.08474</td>\n",
              "      <td>0.07864</td>\n",
              "      <td>0.0869</td>\n",
              "      <td>0.07017</td>\n",
              "      <td>0.1812</td>\n",
              "      <td>0.05667</td>\n",
              "      <td>0.5435</td>\n",
              "      <td>0.7339</td>\n",
              "      <td>3.398</td>\n",
              "      <td>74.08</td>\n",
              "      <td>0.005225</td>\n",
              "      <td>0.01308</td>\n",
              "      <td>0.01860</td>\n",
              "      <td>0.01340</td>\n",
              "      <td>0.01389</td>\n",
              "      <td>0.003532</td>\n",
              "      <td>24.99</td>\n",
              "      <td>23.41</td>\n",
              "      <td>158.80</td>\n",
              "      <td>1956.0</td>\n",
              "      <td>0.1238</td>\n",
              "      <td>0.1866</td>\n",
              "      <td>0.2416</td>\n",
              "      <td>0.1860</td>\n",
              "      <td>0.2750</td>\n",
              "      <td>0.08902</td>\n",
              "    </tr>\n",
              "    <tr>\n",
              "      <th>2</th>\n",
              "      <td>M</td>\n",
              "      <td>19.69</td>\n",
              "      <td>21.25</td>\n",
              "      <td>130.00</td>\n",
              "      <td>1203.0</td>\n",
              "      <td>0.10960</td>\n",
              "      <td>0.15990</td>\n",
              "      <td>0.1974</td>\n",
              "      <td>0.12790</td>\n",
              "      <td>0.2069</td>\n",
              "      <td>0.05999</td>\n",
              "      <td>0.7456</td>\n",
              "      <td>0.7869</td>\n",
              "      <td>4.585</td>\n",
              "      <td>94.03</td>\n",
              "      <td>0.006150</td>\n",
              "      <td>0.04006</td>\n",
              "      <td>0.03832</td>\n",
              "      <td>0.02058</td>\n",
              "      <td>0.02250</td>\n",
              "      <td>0.004571</td>\n",
              "      <td>23.57</td>\n",
              "      <td>25.53</td>\n",
              "      <td>152.50</td>\n",
              "      <td>1709.0</td>\n",
              "      <td>0.1444</td>\n",
              "      <td>0.4245</td>\n",
              "      <td>0.4504</td>\n",
              "      <td>0.2430</td>\n",
              "      <td>0.3613</td>\n",
              "      <td>0.08758</td>\n",
              "    </tr>\n",
              "    <tr>\n",
              "      <th>3</th>\n",
              "      <td>M</td>\n",
              "      <td>11.42</td>\n",
              "      <td>20.38</td>\n",
              "      <td>77.58</td>\n",
              "      <td>386.1</td>\n",
              "      <td>0.14250</td>\n",
              "      <td>0.28390</td>\n",
              "      <td>0.2414</td>\n",
              "      <td>0.10520</td>\n",
              "      <td>0.2597</td>\n",
              "      <td>0.09744</td>\n",
              "      <td>0.4956</td>\n",
              "      <td>1.1560</td>\n",
              "      <td>3.445</td>\n",
              "      <td>27.23</td>\n",
              "      <td>0.009110</td>\n",
              "      <td>0.07458</td>\n",
              "      <td>0.05661</td>\n",
              "      <td>0.01867</td>\n",
              "      <td>0.05963</td>\n",
              "      <td>0.009208</td>\n",
              "      <td>14.91</td>\n",
              "      <td>26.50</td>\n",
              "      <td>98.87</td>\n",
              "      <td>567.7</td>\n",
              "      <td>0.2098</td>\n",
              "      <td>0.8663</td>\n",
              "      <td>0.6869</td>\n",
              "      <td>0.2575</td>\n",
              "      <td>0.6638</td>\n",
              "      <td>0.17300</td>\n",
              "    </tr>\n",
              "    <tr>\n",
              "      <th>4</th>\n",
              "      <td>M</td>\n",
              "      <td>20.29</td>\n",
              "      <td>14.34</td>\n",
              "      <td>135.10</td>\n",
              "      <td>1297.0</td>\n",
              "      <td>0.10030</td>\n",
              "      <td>0.13280</td>\n",
              "      <td>0.1980</td>\n",
              "      <td>0.10430</td>\n",
              "      <td>0.1809</td>\n",
              "      <td>0.05883</td>\n",
              "      <td>0.7572</td>\n",
              "      <td>0.7813</td>\n",
              "      <td>5.438</td>\n",
              "      <td>94.44</td>\n",
              "      <td>0.011490</td>\n",
              "      <td>0.02461</td>\n",
              "      <td>0.05688</td>\n",
              "      <td>0.01885</td>\n",
              "      <td>0.01756</td>\n",
              "      <td>0.005115</td>\n",
              "      <td>22.54</td>\n",
              "      <td>16.67</td>\n",
              "      <td>152.20</td>\n",
              "      <td>1575.0</td>\n",
              "      <td>0.1374</td>\n",
              "      <td>0.2050</td>\n",
              "      <td>0.4000</td>\n",
              "      <td>0.1625</td>\n",
              "      <td>0.2364</td>\n",
              "      <td>0.07678</td>\n",
              "    </tr>\n",
              "  </tbody>\n",
              "</table>\n",
              "</div>"
            ],
            "text/plain": [
              "  diagnosis  radius_mean  ...  symmetry_worst  fractal_dimension_worst\n",
              "0         M        17.99  ...          0.4601                  0.11890\n",
              "1         M        20.57  ...          0.2750                  0.08902\n",
              "2         M        19.69  ...          0.3613                  0.08758\n",
              "3         M        11.42  ...          0.6638                  0.17300\n",
              "4         M        20.29  ...          0.2364                  0.07678\n",
              "\n",
              "[5 rows x 31 columns]"
            ]
          },
          "metadata": {},
          "execution_count": 13
        }
      ]
    },
    {
      "cell_type": "code",
      "metadata": {
        "colab": {
          "base_uri": "https://localhost:8080/",
          "height": 202
        },
        "id": "SGwr8ow9t7Q2",
        "outputId": "e4b6180f-418b-414a-c6ed-1a96d72ca1d8"
      },
      "source": [
        "# Datamız ilgilendiğimiz kısma göre filtrelendi.\n",
        "\n",
        "data_B = df[df.diagnosis == \"B\"].iloc[:,[1,4,6]]\n",
        "data_B.head()"
      ],
      "execution_count": null,
      "outputs": [
        {
          "output_type": "execute_result",
          "data": {
            "text/html": [
              "<div>\n",
              "<style scoped>\n",
              "    .dataframe tbody tr th:only-of-type {\n",
              "        vertical-align: middle;\n",
              "    }\n",
              "\n",
              "    .dataframe tbody tr th {\n",
              "        vertical-align: top;\n",
              "    }\n",
              "\n",
              "    .dataframe thead th {\n",
              "        text-align: right;\n",
              "    }\n",
              "</style>\n",
              "<table border=\"1\" class=\"dataframe\">\n",
              "  <thead>\n",
              "    <tr style=\"text-align: right;\">\n",
              "      <th></th>\n",
              "      <th>radius_mean</th>\n",
              "      <th>area_mean</th>\n",
              "      <th>compactness_mean</th>\n",
              "    </tr>\n",
              "  </thead>\n",
              "  <tbody>\n",
              "    <tr>\n",
              "      <th>19</th>\n",
              "      <td>13.540</td>\n",
              "      <td>566.3</td>\n",
              "      <td>0.08129</td>\n",
              "    </tr>\n",
              "    <tr>\n",
              "      <th>20</th>\n",
              "      <td>13.080</td>\n",
              "      <td>520.0</td>\n",
              "      <td>0.12700</td>\n",
              "    </tr>\n",
              "    <tr>\n",
              "      <th>21</th>\n",
              "      <td>9.504</td>\n",
              "      <td>273.9</td>\n",
              "      <td>0.06492</td>\n",
              "    </tr>\n",
              "    <tr>\n",
              "      <th>37</th>\n",
              "      <td>13.030</td>\n",
              "      <td>523.8</td>\n",
              "      <td>0.03766</td>\n",
              "    </tr>\n",
              "    <tr>\n",
              "      <th>46</th>\n",
              "      <td>8.196</td>\n",
              "      <td>201.9</td>\n",
              "      <td>0.05943</td>\n",
              "    </tr>\n",
              "  </tbody>\n",
              "</table>\n",
              "</div>"
            ],
            "text/plain": [
              "    radius_mean  area_mean  compactness_mean\n",
              "19       13.540      566.3           0.08129\n",
              "20       13.080      520.0           0.12700\n",
              "21        9.504      273.9           0.06492\n",
              "37       13.030      523.8           0.03766\n",
              "46        8.196      201.9           0.05943"
            ]
          },
          "metadata": {},
          "execution_count": 83
        }
      ]
    },
    {
      "cell_type": "code",
      "metadata": {
        "colab": {
          "base_uri": "https://localhost:8080/",
          "height": 141
        },
        "id": "sDZ3x_p5t7O-",
        "outputId": "74268a82-4faa-49f3-ab2e-b25bf706ad62"
      },
      "source": [
        "# diagnosis == B için ilgilenilen kolonların istatistiksel değerleri\n",
        "\n",
        "data_B.describe().T"
      ],
      "execution_count": null,
      "outputs": [
        {
          "output_type": "execute_result",
          "data": {
            "text/html": [
              "<div>\n",
              "<style scoped>\n",
              "    .dataframe tbody tr th:only-of-type {\n",
              "        vertical-align: middle;\n",
              "    }\n",
              "\n",
              "    .dataframe tbody tr th {\n",
              "        vertical-align: top;\n",
              "    }\n",
              "\n",
              "    .dataframe thead th {\n",
              "        text-align: right;\n",
              "    }\n",
              "</style>\n",
              "<table border=\"1\" class=\"dataframe\">\n",
              "  <thead>\n",
              "    <tr style=\"text-align: right;\">\n",
              "      <th></th>\n",
              "      <th>count</th>\n",
              "      <th>mean</th>\n",
              "      <th>std</th>\n",
              "      <th>min</th>\n",
              "      <th>25%</th>\n",
              "      <th>50%</th>\n",
              "      <th>75%</th>\n",
              "      <th>max</th>\n",
              "    </tr>\n",
              "  </thead>\n",
              "  <tbody>\n",
              "    <tr>\n",
              "      <th>radius_mean</th>\n",
              "      <td>357.0</td>\n",
              "      <td>12.146524</td>\n",
              "      <td>1.780512</td>\n",
              "      <td>6.98100</td>\n",
              "      <td>11.08000</td>\n",
              "      <td>12.20000</td>\n",
              "      <td>13.37000</td>\n",
              "      <td>17.8500</td>\n",
              "    </tr>\n",
              "    <tr>\n",
              "      <th>area_mean</th>\n",
              "      <td>357.0</td>\n",
              "      <td>462.790196</td>\n",
              "      <td>134.287118</td>\n",
              "      <td>143.50000</td>\n",
              "      <td>378.20000</td>\n",
              "      <td>458.40000</td>\n",
              "      <td>551.10000</td>\n",
              "      <td>992.1000</td>\n",
              "    </tr>\n",
              "    <tr>\n",
              "      <th>compactness_mean</th>\n",
              "      <td>357.0</td>\n",
              "      <td>0.080085</td>\n",
              "      <td>0.033750</td>\n",
              "      <td>0.01938</td>\n",
              "      <td>0.05562</td>\n",
              "      <td>0.07529</td>\n",
              "      <td>0.09755</td>\n",
              "      <td>0.2239</td>\n",
              "    </tr>\n",
              "  </tbody>\n",
              "</table>\n",
              "</div>"
            ],
            "text/plain": [
              "                  count        mean         std  ...        50%        75%       max\n",
              "radius_mean       357.0   12.146524    1.780512  ...   12.20000   13.37000   17.8500\n",
              "area_mean         357.0  462.790196  134.287118  ...  458.40000  551.10000  992.1000\n",
              "compactness_mean  357.0    0.080085    0.033750  ...    0.07529    0.09755    0.2239\n",
              "\n",
              "[3 rows x 8 columns]"
            ]
          },
          "metadata": {},
          "execution_count": 84
        }
      ]
    },
    {
      "cell_type": "code",
      "metadata": {
        "colab": {
          "base_uri": "https://localhost:8080/",
          "height": 202
        },
        "id": "gJ8G0wn4LS4n",
        "outputId": "c52089a0-88f0-4220-f691-84c860f9fbf1"
      },
      "source": [
        "# Datamız ilgilendiğimiz kısma göre filtrelendi.\n",
        "\n",
        "data_M = df[df.diagnosis == \"M\"].iloc[:,[1,4,6]]\n",
        "data_M.head()"
      ],
      "execution_count": null,
      "outputs": [
        {
          "output_type": "execute_result",
          "data": {
            "text/html": [
              "<div>\n",
              "<style scoped>\n",
              "    .dataframe tbody tr th:only-of-type {\n",
              "        vertical-align: middle;\n",
              "    }\n",
              "\n",
              "    .dataframe tbody tr th {\n",
              "        vertical-align: top;\n",
              "    }\n",
              "\n",
              "    .dataframe thead th {\n",
              "        text-align: right;\n",
              "    }\n",
              "</style>\n",
              "<table border=\"1\" class=\"dataframe\">\n",
              "  <thead>\n",
              "    <tr style=\"text-align: right;\">\n",
              "      <th></th>\n",
              "      <th>radius_mean</th>\n",
              "      <th>area_mean</th>\n",
              "      <th>compactness_mean</th>\n",
              "    </tr>\n",
              "  </thead>\n",
              "  <tbody>\n",
              "    <tr>\n",
              "      <th>0</th>\n",
              "      <td>17.99</td>\n",
              "      <td>1001.0</td>\n",
              "      <td>0.27760</td>\n",
              "    </tr>\n",
              "    <tr>\n",
              "      <th>1</th>\n",
              "      <td>20.57</td>\n",
              "      <td>1326.0</td>\n",
              "      <td>0.07864</td>\n",
              "    </tr>\n",
              "    <tr>\n",
              "      <th>2</th>\n",
              "      <td>19.69</td>\n",
              "      <td>1203.0</td>\n",
              "      <td>0.15990</td>\n",
              "    </tr>\n",
              "    <tr>\n",
              "      <th>3</th>\n",
              "      <td>11.42</td>\n",
              "      <td>386.1</td>\n",
              "      <td>0.28390</td>\n",
              "    </tr>\n",
              "    <tr>\n",
              "      <th>4</th>\n",
              "      <td>20.29</td>\n",
              "      <td>1297.0</td>\n",
              "      <td>0.13280</td>\n",
              "    </tr>\n",
              "  </tbody>\n",
              "</table>\n",
              "</div>"
            ],
            "text/plain": [
              "   radius_mean  area_mean  compactness_mean\n",
              "0        17.99     1001.0           0.27760\n",
              "1        20.57     1326.0           0.07864\n",
              "2        19.69     1203.0           0.15990\n",
              "3        11.42      386.1           0.28390\n",
              "4        20.29     1297.0           0.13280"
            ]
          },
          "metadata": {},
          "execution_count": 85
        }
      ]
    },
    {
      "cell_type": "code",
      "metadata": {
        "colab": {
          "base_uri": "https://localhost:8080/",
          "height": 141
        },
        "id": "yDUuJHEfLSwN",
        "outputId": "6467a42d-1179-4d25-e0f4-6f7cefcbf123"
      },
      "source": [
        "# diagnosis == M için ilgilenilen kolonların istatistiksel değerleri\n",
        "\n",
        "data_M.describe().T"
      ],
      "execution_count": null,
      "outputs": [
        {
          "output_type": "execute_result",
          "data": {
            "text/html": [
              "<div>\n",
              "<style scoped>\n",
              "    .dataframe tbody tr th:only-of-type {\n",
              "        vertical-align: middle;\n",
              "    }\n",
              "\n",
              "    .dataframe tbody tr th {\n",
              "        vertical-align: top;\n",
              "    }\n",
              "\n",
              "    .dataframe thead th {\n",
              "        text-align: right;\n",
              "    }\n",
              "</style>\n",
              "<table border=\"1\" class=\"dataframe\">\n",
              "  <thead>\n",
              "    <tr style=\"text-align: right;\">\n",
              "      <th></th>\n",
              "      <th>count</th>\n",
              "      <th>mean</th>\n",
              "      <th>std</th>\n",
              "      <th>min</th>\n",
              "      <th>25%</th>\n",
              "      <th>50%</th>\n",
              "      <th>75%</th>\n",
              "      <th>max</th>\n",
              "    </tr>\n",
              "  </thead>\n",
              "  <tbody>\n",
              "    <tr>\n",
              "      <th>radius_mean</th>\n",
              "      <td>212.0</td>\n",
              "      <td>17.462830</td>\n",
              "      <td>3.203971</td>\n",
              "      <td>10.95000</td>\n",
              "      <td>15.0750</td>\n",
              "      <td>17.32500</td>\n",
              "      <td>19.5900</td>\n",
              "      <td>28.1100</td>\n",
              "    </tr>\n",
              "    <tr>\n",
              "      <th>area_mean</th>\n",
              "      <td>212.0</td>\n",
              "      <td>978.376415</td>\n",
              "      <td>367.937978</td>\n",
              "      <td>361.60000</td>\n",
              "      <td>705.3000</td>\n",
              "      <td>932.00000</td>\n",
              "      <td>1203.7500</td>\n",
              "      <td>2501.0000</td>\n",
              "    </tr>\n",
              "    <tr>\n",
              "      <th>compactness_mean</th>\n",
              "      <td>212.0</td>\n",
              "      <td>0.145188</td>\n",
              "      <td>0.053987</td>\n",
              "      <td>0.04605</td>\n",
              "      <td>0.1096</td>\n",
              "      <td>0.13235</td>\n",
              "      <td>0.1724</td>\n",
              "      <td>0.3454</td>\n",
              "    </tr>\n",
              "  </tbody>\n",
              "</table>\n",
              "</div>"
            ],
            "text/plain": [
              "                  count        mean  ...        75%        max\n",
              "radius_mean       212.0   17.462830  ...    19.5900    28.1100\n",
              "area_mean         212.0  978.376415  ...  1203.7500  2501.0000\n",
              "compactness_mean  212.0    0.145188  ...     0.1724     0.3454\n",
              "\n",
              "[3 rows x 8 columns]"
            ]
          },
          "metadata": {},
          "execution_count": 86
        }
      ]
    },
    {
      "cell_type": "markdown",
      "metadata": {
        "id": "_BPdE1ZkxUKU"
      },
      "source": [
        "## diagnosis == \"B\""
      ]
    },
    {
      "cell_type": "markdown",
      "metadata": {
        "id": "iPbOtjGwMGZg"
      },
      "source": [
        "### \"radius_mean\" Kolonu"
      ]
    },
    {
      "cell_type": "code",
      "metadata": {
        "colab": {
          "base_uri": "https://localhost:8080/"
        },
        "id": "V-CvJ9P0t7M_",
        "outputId": "563ee5f8-5300-4be1-c3d5-d8065edebe3e"
      },
      "source": [
        "# diagnosis == \"B\" için radius_mean kolonu\n",
        "\n",
        "radius_mean = data_B.radius_mean.describe()\n",
        "radius_mean"
      ],
      "execution_count": null,
      "outputs": [
        {
          "output_type": "execute_result",
          "data": {
            "text/plain": [
              "count    357.000000\n",
              "mean      12.146524\n",
              "std        1.780512\n",
              "min        6.981000\n",
              "25%       11.080000\n",
              "50%       12.200000\n",
              "75%       13.370000\n",
              "max       17.850000\n",
              "Name: radius_mean, dtype: float64"
            ]
          },
          "metadata": {},
          "execution_count": 87
        }
      ]
    },
    {
      "cell_type": "code",
      "metadata": {
        "colab": {
          "base_uri": "https://localhost:8080/"
        },
        "id": "VuJeb9B9t7Ky",
        "outputId": "9dc7f77d-8704-4f5e-c6de-e03418738477"
      },
      "source": [
        "# Outlier verileri bulmak için alt ve üst sınırların belirlenmesi\n",
        "\n",
        "Q1 = radius_mean[4]\n",
        "Q3 = radius_mean[6]\n",
        "IQR = Q3 - Q1\n",
        "\n",
        "print(f\"IQR: {IQR}\\n\")\n",
        "\n",
        "upper = Q3 + (1.5 * IQR) # üst sınır\n",
        "lower = Q1 - (1.5 * IQR) # alt sınır\n",
        "\n",
        "print(f\"Alt Sınır : {lower}\\n\")\n",
        "print(f\"Üst Sınır : {upper}\\n\")\n",
        "\n",
        "# Outlier verilerin listelenmesi\n",
        "\n",
        "print(\"Outliers:\\n \" , data_B[(data_B[\"radius_mean\"] > upper) | (data_B[\"radius_mean\"] < lower) ].radius_mean.values)\n"
      ],
      "execution_count": null,
      "outputs": [
        {
          "output_type": "stream",
          "name": "stdout",
          "text": [
            "IQR: 2.289999999999999\n",
            "\n",
            "Alt Sınır : 7.645000000000001\n",
            "\n",
            "Üst Sınır : 16.805\n",
            "\n",
            "Outliers:\n",
            "  [ 6.981 16.84  17.85 ]\n"
          ]
        }
      ]
    },
    {
      "cell_type": "code",
      "metadata": {
        "colab": {
          "base_uri": "https://localhost:8080/",
          "height": 353
        },
        "id": "xjByAuYQt7Ix",
        "outputId": "1172ed71-aadd-433e-f068-b900b1b9361f"
      },
      "source": [
        "# BoxPlot ile sınırları ve outlier verileri görebiliriz.\n",
        "\n",
        "sns.boxplot(data_B.radius_mean)"
      ],
      "execution_count": null,
      "outputs": [
        {
          "output_type": "stream",
          "name": "stderr",
          "text": [
            "/usr/local/lib/python3.7/dist-packages/seaborn/_decorators.py:43: FutureWarning: Pass the following variable as a keyword arg: x. From version 0.12, the only valid positional argument will be `data`, and passing other arguments without an explicit keyword will result in an error or misinterpretation.\n",
            "  FutureWarning\n"
          ]
        },
        {
          "output_type": "execute_result",
          "data": {
            "text/plain": [
              "<matplotlib.axes._subplots.AxesSubplot at 0x7fb9e959f790>"
            ]
          },
          "metadata": {},
          "execution_count": 89
        },
        {
          "output_type": "display_data",
          "data": {
            "image/png": "[encoded data removed]",
            "text/plain": [
              "<Figure size 432x288 with 1 Axes>"
            ]
          },
          "metadata": {
            "needs_background": "light"
          }
        }
      ]
    },
    {
      "cell_type": "code",
      "metadata": {
        "colab": {
          "base_uri": "https://localhost:8080/",
          "height": 386
        },
        "id": "OZznHJJ4gtgR",
        "outputId": "cc3d9611-68fa-409a-814e-b54d30b83018"
      },
      "source": [
        "#DistPlot ile değişkenimizin dağılımını görebiliriz.\n",
        "\n",
        "sns.displot(data_B.radius_mean, kde=True)"
      ],
      "execution_count": null,
      "outputs": [
        {
          "output_type": "execute_result",
          "data": {
            "text/plain": [
              "<seaborn.axisgrid.FacetGrid at 0x7fb9e03caa50>"
            ]
          },
          "metadata": {},
          "execution_count": 109
        },
        {
          "output_type": "display_data",
          "data": {
            "image/png": "[encoded data removed]",
            "text/plain": [
              "<Figure size 360x360 with 1 Axes>"
            ]
          },
          "metadata": {
            "needs_background": "light"
          }
        }
      ]
    },
    {
      "cell_type": "markdown",
      "metadata": {
        "id": "HH3iqcrExXq5"
      },
      "source": [
        "### \"area_mean\" Kolonu"
      ]
    },
    {
      "cell_type": "code",
      "metadata": {
        "colab": {
          "base_uri": "https://localhost:8080/"
        },
        "id": "5QkgWiCWt7Go",
        "outputId": "98c2faf6-64cd-4e34-8132-b43c2513f843"
      },
      "source": [
        "# diagnosis == \"B\" için area_mean kolonu\n",
        "\n",
        "area_mean = data_B.area_mean.describe()\n",
        "area_mean"
      ],
      "execution_count": null,
      "outputs": [
        {
          "output_type": "execute_result",
          "data": {
            "text/plain": [
              "count    357.000000\n",
              "mean     462.790196\n",
              "std      134.287118\n",
              "min      143.500000\n",
              "25%      378.200000\n",
              "50%      458.400000\n",
              "75%      551.100000\n",
              "max      992.100000\n",
              "Name: area_mean, dtype: float64"
            ]
          },
          "metadata": {},
          "execution_count": 107
        }
      ]
    },
    {
      "cell_type": "code",
      "metadata": {
        "colab": {
          "base_uri": "https://localhost:8080/"
        },
        "id": "BAxvkEOjt6_C",
        "outputId": "fe82dffa-df76-4b7b-d445-faeb98c6a27d"
      },
      "source": [
        "# Outlier verileri bulmak için alt ve üst sınırların belirlenmesi\n",
        "\n",
        "Q1 = area_mean[4]\n",
        "Q3 = area_mean[6]\n",
        "IQR = Q3 - Q1\n",
        "\n",
        "print(f\"IQR: {IQR}\\n\")\n",
        "\n",
        "upper = Q3 + (1.5 * IQR) # üst sınır\n",
        "lower = Q1 - (1.5 * IQR) # alt sınır\n",
        "\n",
        "print(f\"Alt Sınır : {lower}\\n\")\n",
        "print(f\"Üst Sınır : {upper}\\n\")\n",
        "\n",
        "# Outlier verilerin listelenmesi\n",
        "print(\"Outliers:\\n \" , data_B[(data_B[\"area_mean\"] > upper) | (data_B[\"area_mean\"] < lower) ].area_mean.values)\n"
      ],
      "execution_count": null,
      "outputs": [
        {
          "output_type": "stream",
          "name": "stdout",
          "text": [
            "IQR: 172.90000000000003\n",
            "\n",
            "Alt Sınır : 118.84999999999997\n",
            "\n",
            "Üst Sınır : 810.45\n",
            "\n",
            "Outliers:\n",
            "  [880.2 838.1 992.1 819.8]\n"
          ]
        }
      ]
    },
    {
      "cell_type": "code",
      "metadata": {
        "colab": {
          "base_uri": "https://localhost:8080/",
          "height": 352
        },
        "id": "k8c0rP8WxdnJ",
        "outputId": "b8f80eb5-20de-4769-9674-d61eafdd8f4c"
      },
      "source": [
        "# BoxPlot ile sınırları ve outlier verileri görebiliriz.\n",
        "\n",
        "sns.boxplot( data_B.area_mean)"
      ],
      "execution_count": null,
      "outputs": [
        {
          "output_type": "stream",
          "name": "stderr",
          "text": [
            "/usr/local/lib/python3.7/dist-packages/seaborn/_decorators.py:43: FutureWarning: Pass the following variable as a keyword arg: x. From version 0.12, the only valid positional argument will be `data`, and passing other arguments without an explicit keyword will result in an error or misinterpretation.\n",
            "  FutureWarning\n"
          ]
        },
        {
          "output_type": "execute_result",
          "data": {
            "text/plain": [
              "<matplotlib.axes._subplots.AxesSubplot at 0x7fb9e9416310>"
            ]
          },
          "metadata": {},
          "execution_count": 92
        },
        {
          "output_type": "display_data",
          "data": {
            "image/png": "[encoded data removed]",
            "text/plain": [
              "<Figure size 432x288 with 1 Axes>"
            ]
          },
          "metadata": {
            "needs_background": "light"
          }
        }
      ]
    },
    {
      "cell_type": "code",
      "metadata": {
        "colab": {
          "base_uri": "https://localhost:8080/",
          "height": 386
        },
        "id": "aDNGc9bjVxK6",
        "outputId": "d1a291ff-f8d4-4d5d-e7a9-de0649229654"
      },
      "source": [
        "## DistPlot ile değişkenimizin dağılımını görebiliriz.\n",
        "sns.displot(data_B.area_mean, kde=True)"
      ],
      "execution_count": null,
      "outputs": [
        {
          "output_type": "execute_result",
          "data": {
            "text/plain": [
              "<seaborn.axisgrid.FacetGrid at 0x7fb9e8d21690>"
            ]
          },
          "metadata": {},
          "execution_count": 106
        },
        {
          "output_type": "display_data",
          "data": {
            "image/png": "[encoded data removed]",
            "text/plain": [
              "<Figure size 360x360 with 1 Axes>"
            ]
          },
          "metadata": {
            "needs_background": "light"
          }
        }
      ]
    },
    {
      "cell_type": "markdown",
      "metadata": {
        "id": "aiArpbK8zLrz"
      },
      "source": [
        "### \"compactness_mean\""
      ]
    },
    {
      "cell_type": "code",
      "metadata": {
        "colab": {
          "base_uri": "https://localhost:8080/"
        },
        "id": "1JKRSMw9xdlP",
        "outputId": "98ac1330-6cdd-4526-e62a-b7a24b1de449"
      },
      "source": [
        "# diagnosis == \"B\" için compactness_mean kolonu\n",
        "\n",
        "compactness_mean = data_B.compactness_mean.describe()\n",
        "compactness_mean"
      ],
      "execution_count": null,
      "outputs": [
        {
          "output_type": "execute_result",
          "data": {
            "text/plain": [
              "count    357.000000\n",
              "mean       0.080085\n",
              "std        0.033750\n",
              "min        0.019380\n",
              "25%        0.055620\n",
              "50%        0.075290\n",
              "75%        0.097550\n",
              "max        0.223900\n",
              "Name: compactness_mean, dtype: float64"
            ]
          },
          "metadata": {},
          "execution_count": 93
        }
      ]
    },
    {
      "cell_type": "code",
      "metadata": {
        "colab": {
          "base_uri": "https://localhost:8080/"
        },
        "id": "dv85f4tOxdjW",
        "outputId": "13998ea7-1015-4ad0-9b06-3a1f6b9d8e28"
      },
      "source": [
        "# Outlier verileri bulmak için alt ve üst sınırların belirlenmesi\n",
        "\n",
        "Q1 = compactness_mean[4]\n",
        "Q3 = compactness_mean[6]\n",
        "IQR = Q3 - Q1\n",
        "\n",
        "print(f\"IQR: {IQR}\\n\")\n",
        "\n",
        "upper = Q3 + (1.5 * IQR) # üst sınır\n",
        "lower = Q1 - (1.5 * IQR) # alt sınır\n",
        "\n",
        "print(f\"Alt Sınır : {lower}\\n\")\n",
        "print(f\"Üst Sınır : {upper}\\n\")\n",
        "\n",
        "# Outlier verilerin listelenmesi\n",
        "print(\"Outliers:\\n \" , data_B[(data_B[\"compactness_mean\"] > upper) | (data_B[\"compactness_mean\"] < lower) ].compactness_mean.values)\n"
      ],
      "execution_count": null,
      "outputs": [
        {
          "output_type": "stream",
          "name": "stdout",
          "text": [
            "IQR: 0.041929999999999995\n",
            "\n",
            "Alt Sınır : -0.00727499999999999\n",
            "\n",
            "Üst Sınır : 0.160445\n",
            "\n",
            "Outliers:\n",
            "  [0.2233 0.1807 0.1676 0.1972 0.166  0.1836 0.2239 0.2204 0.1661]\n"
          ]
        }
      ]
    },
    {
      "cell_type": "code",
      "metadata": {
        "colab": {
          "base_uri": "https://localhost:8080/",
          "height": 353
        },
        "id": "xwnDBepGxdhP",
        "outputId": "002c85f2-41e4-43bc-aa55-95f2c02e3434"
      },
      "source": [
        "# BoxPlot ile sınırları ve outlier verileri görebiliriz.\n",
        "\n",
        "sns.boxplot(data_B.compactness_mean)"
      ],
      "execution_count": null,
      "outputs": [
        {
          "output_type": "stream",
          "name": "stderr",
          "text": [
            "/usr/local/lib/python3.7/dist-packages/seaborn/_decorators.py:43: FutureWarning: Pass the following variable as a keyword arg: x. From version 0.12, the only valid positional argument will be `data`, and passing other arguments without an explicit keyword will result in an error or misinterpretation.\n",
            "  FutureWarning\n"
          ]
        },
        {
          "output_type": "execute_result",
          "data": {
            "text/plain": [
              "<matplotlib.axes._subplots.AxesSubplot at 0x7fb9e8fd8590>"
            ]
          },
          "metadata": {},
          "execution_count": 95
        },
        {
          "output_type": "display_data",
          "data": {
            "image/png": "[encoded data removed]",
            "text/plain": [
              "<Figure size 432x288 with 1 Axes>"
            ]
          },
          "metadata": {
            "needs_background": "light"
          }
        }
      ]
    },
    {
      "cell_type": "code",
      "metadata": {
        "colab": {
          "base_uri": "https://localhost:8080/",
          "height": 386
        },
        "id": "Zxp0abc8g2jX",
        "outputId": "7d5d1074-802f-4d97-d029-ea325f8ea3c6"
      },
      "source": [
        "## DistPlot ile değişkenimizin dağılımını görebiliriz.\n",
        "sns.displot(data_B.compactness_mean, kde=True)"
      ],
      "execution_count": null,
      "outputs": [
        {
          "output_type": "execute_result",
          "data": {
            "text/plain": [
              "<seaborn.axisgrid.FacetGrid at 0x7fb9e0395290>"
            ]
          },
          "metadata": {},
          "execution_count": 110
        },
        {
          "output_type": "display_data",
          "data": {
            "image/png": "[encoded data removed]",
            "text/plain": [
              "<Figure size 360x360 with 1 Axes>"
            ]
          },
          "metadata": {
            "needs_background": "light"
          }
        }
      ]
    },
    {
      "cell_type": "markdown",
      "metadata": {
        "id": "OPvv0ypEM-sP"
      },
      "source": [
        "## diagnosis == \"M\""
      ]
    },
    {
      "cell_type": "markdown",
      "metadata": {
        "id": "4N4DjZg_NKfy"
      },
      "source": [
        "### \"radius_mean\" Kolonu"
      ]
    },
    {
      "cell_type": "code",
      "metadata": {
        "colab": {
          "base_uri": "https://localhost:8080/"
        },
        "id": "zAJrKBzuNFAy",
        "outputId": "731d742c-5c91-47ac-acb4-70002739ea9c"
      },
      "source": [
        "# diagnosis == \"M\" için radius_mean kolonu\n",
        "\n",
        "radius_mean = data_M.radius_mean.describe()\n",
        "radius_mean"
      ],
      "execution_count": null,
      "outputs": [
        {
          "output_type": "execute_result",
          "data": {
            "text/plain": [
              "count    212.000000\n",
              "mean      17.462830\n",
              "std        3.203971\n",
              "min       10.950000\n",
              "25%       15.075000\n",
              "50%       17.325000\n",
              "75%       19.590000\n",
              "max       28.110000\n",
              "Name: radius_mean, dtype: float64"
            ]
          },
          "metadata": {},
          "execution_count": 114
        }
      ]
    },
    {
      "cell_type": "code",
      "metadata": {
        "colab": {
          "base_uri": "https://localhost:8080/"
        },
        "id": "J7DRdzrXNE-a",
        "outputId": "56b97006-486b-4d5f-eaca-16d6b77e4908"
      },
      "source": [
        "# Outlier verileri bulmak için alt ve üst sınırların belirlenmesi\n",
        "\n",
        "Q1 = radius_mean[4]\n",
        "Q3 = radius_mean[6]\n",
        "IQR = Q3 - Q1\n",
        "\n",
        "print(f\"IQR: {IQR}\\n\")\n",
        "\n",
        "upper = Q3 + (1.5 * IQR) # üst sınır\n",
        "lower = Q1 - (1.5 * IQR) # alt sınır\n",
        "\n",
        "print(f\"Alt Sınır : {lower}\\n\")\n",
        "print(f\"Üst Sınır : {upper}\\n\")\n",
        "\n",
        "# Outlier verilerin listelenmesi\n",
        "\n",
        "print(\"Outliers:\\n \" , data_M[(data_M[\"radius_mean\"] > upper) | (data_M[\"radius_mean\"] < lower) ].radius_mean.values)"
      ],
      "execution_count": null,
      "outputs": [
        {
          "output_type": "stream",
          "name": "stdout",
          "text": [
            "IQR: 4.514999999999999\n",
            "\n",
            "Alt Sınır : 8.302500000000002\n",
            "\n",
            "Üst Sınır : 26.362499999999997\n",
            "\n",
            "Outliers:\n",
            "  [27.22 28.11 27.42]\n"
          ]
        }
      ]
    },
    {
      "cell_type": "code",
      "metadata": {
        "colab": {
          "base_uri": "https://localhost:8080/",
          "height": 353
        },
        "id": "ULk0_IgzNE2r",
        "outputId": "3c64c5e9-4866-489b-969a-6bd37ff2af27"
      },
      "source": [
        "# BoxPlot ile sınırları ve outlier verileri görebiliriz.\n",
        "\n",
        "sns.boxplot(data_M.radius_mean)"
      ],
      "execution_count": null,
      "outputs": [
        {
          "output_type": "stream",
          "name": "stderr",
          "text": [
            "/usr/local/lib/python3.7/dist-packages/seaborn/_decorators.py:43: FutureWarning: Pass the following variable as a keyword arg: x. From version 0.12, the only valid positional argument will be `data`, and passing other arguments without an explicit keyword will result in an error or misinterpretation.\n",
            "  FutureWarning\n"
          ]
        },
        {
          "output_type": "execute_result",
          "data": {
            "text/plain": [
              "<matplotlib.axes._subplots.AxesSubplot at 0x7fb9e0176c10>"
            ]
          },
          "metadata": {},
          "execution_count": 116
        },
        {
          "output_type": "display_data",
          "data": {
            "image/png": "[encoded data removed]",
            "text/plain": [
              "<Figure size 432x288 with 1 Axes>"
            ]
          },
          "metadata": {
            "needs_background": "light"
          }
        }
      ]
    },
    {
      "cell_type": "code",
      "metadata": {
        "colab": {
          "base_uri": "https://localhost:8080/",
          "height": 386
        },
        "id": "bvuVNPAlW91T",
        "outputId": "0d916500-9a80-489a-f751-dd772a4e694b"
      },
      "source": [
        "## DistPlot ile değişkenimizin dağılımını görebiliriz.\n",
        "sns.displot(data_M.radius_mean, kde=True)"
      ],
      "execution_count": null,
      "outputs": [
        {
          "output_type": "execute_result",
          "data": {
            "text/plain": [
              "<seaborn.axisgrid.FacetGrid at 0x7fb9e0102cd0>"
            ]
          },
          "metadata": {},
          "execution_count": 117
        },
        {
          "output_type": "display_data",
          "data": {
            "image/png": "[encoded data removed]",
            "text/plain": [
              "<Figure size 360x360 with 1 Axes>"
            ]
          },
          "metadata": {
            "needs_background": "light"
          }
        }
      ]
    },
    {
      "cell_type": "markdown",
      "metadata": {
        "id": "itH2s5itNc56"
      },
      "source": [
        "### \"area_mean\" Kolonu"
      ]
    },
    {
      "cell_type": "code",
      "metadata": {
        "colab": {
          "base_uri": "https://localhost:8080/"
        },
        "id": "6eqfU0yXNhxt",
        "outputId": "0c2047ea-eede-4ac3-9373-8f94795f5e91"
      },
      "source": [
        "# diagnosis == \"M\" için area_mean kolonu\n",
        "\n",
        "area_mean = data_M.area_mean.describe()\n",
        "area_mean"
      ],
      "execution_count": null,
      "outputs": [
        {
          "output_type": "execute_result",
          "data": {
            "text/plain": [
              "count     212.000000\n",
              "mean      978.376415\n",
              "std       367.937978\n",
              "min       361.600000\n",
              "25%       705.300000\n",
              "50%       932.000000\n",
              "75%      1203.750000\n",
              "max      2501.000000\n",
              "Name: area_mean, dtype: float64"
            ]
          },
          "metadata": {},
          "execution_count": 99
        }
      ]
    },
    {
      "cell_type": "code",
      "metadata": {
        "colab": {
          "base_uri": "https://localhost:8080/"
        },
        "id": "1IHRiwcGNhv7",
        "outputId": "a8d268ee-c9ef-4239-81e6-80f8e59177ae"
      },
      "source": [
        "# Outlier verileri bulmak için alt ve üst sınırların belirlenmesi\n",
        "\n",
        "Q1 = area_mean[4]\n",
        "Q3 = area_mean[6]\n",
        "IQR = Q3 - Q1\n",
        "\n",
        "print(f\"IQR: {IQR}\\n\")\n",
        "\n",
        "upper = Q3 + (1.5 * IQR) # üst sınır\n",
        "lower = Q1 - (1.5 * IQR) # alt sınır\n",
        "\n",
        "print(f\"Alt Sınır : {lower}\\n\")\n",
        "print(f\"Üst Sınır : {upper}\\n\")\n",
        "\n",
        "# Outlier verilerin listelenmesi\n",
        "\n",
        "print(\"Outliers:\\n \" , data_M[(data_M[\"area_mean\"] > upper) | (data_M[\"area_mean\"] < lower) ].area_mean.values)\n"
      ],
      "execution_count": null,
      "outputs": [
        {
          "output_type": "stream",
          "name": "stdout",
          "text": [
            "IQR: 498.44999999999993\n",
            "\n",
            "Alt Sınır : -42.374999999999886\n",
            "\n",
            "Üst Sınır : 1951.425\n",
            "\n",
            "Outliers:\n",
            "  [2250. 2499. 2010. 2501.]\n"
          ]
        }
      ]
    },
    {
      "cell_type": "code",
      "metadata": {
        "colab": {
          "base_uri": "https://localhost:8080/",
          "height": 352
        },
        "id": "hC6JvYQvNhtb",
        "outputId": "79729ce8-da70-4aa6-c67d-62dd0622fa9f"
      },
      "source": [
        "## BoxPlot ile sınırları ve outlier verileri görebiliriz.\n",
        "sns.boxplot(data_M.area_mean)"
      ],
      "execution_count": null,
      "outputs": [
        {
          "output_type": "stream",
          "name": "stderr",
          "text": [
            "/usr/local/lib/python3.7/dist-packages/seaborn/_decorators.py:43: FutureWarning: Pass the following variable as a keyword arg: x. From version 0.12, the only valid positional argument will be `data`, and passing other arguments without an explicit keyword will result in an error or misinterpretation.\n",
            "  FutureWarning\n"
          ]
        },
        {
          "output_type": "execute_result",
          "data": {
            "text/plain": [
              "<matplotlib.axes._subplots.AxesSubplot at 0x7fb9e8e4ed10>"
            ]
          },
          "metadata": {},
          "execution_count": 101
        },
        {
          "output_type": "display_data",
          "data": {
            "image/png": "[encoded data removed]",
            "text/plain": [
              "<Figure size 432x288 with 1 Axes>"
            ]
          },
          "metadata": {
            "needs_background": "light"
          }
        }
      ]
    },
    {
      "cell_type": "code",
      "metadata": {
        "colab": {
          "base_uri": "https://localhost:8080/",
          "height": 386
        },
        "id": "vv3HAOAOhGJH",
        "outputId": "d036d785-7e80-44c9-f232-c701983bebaf"
      },
      "source": [
        "### DistPlot ile değişkenimizin dağılımını görebiliriz.\n",
        "sns.displot(data_M.area_mean, kde=True)"
      ],
      "execution_count": null,
      "outputs": [
        {
          "output_type": "execute_result",
          "data": {
            "text/plain": [
              "<seaborn.axisgrid.FacetGrid at 0x7fb9e02c8450>"
            ]
          },
          "metadata": {},
          "execution_count": 111
        },
        {
          "output_type": "display_data",
          "data": {
            "image/png": "[encoded data removed]",
            "text/plain": [
              "<Figure size 360x360 with 1 Axes>"
            ]
          },
          "metadata": {
            "needs_background": "light"
          }
        }
      ]
    },
    {
      "cell_type": "markdown",
      "metadata": {
        "id": "F3SAMjQuOANg"
      },
      "source": [
        "### \"compactness_mean\" Kolonu"
      ]
    },
    {
      "cell_type": "code",
      "metadata": {
        "colab": {
          "base_uri": "https://localhost:8080/"
        },
        "id": "rBxYP-pxNhmu",
        "outputId": "2e713d1d-d762-4350-9c7a-64eb38605c2d"
      },
      "source": [
        "# diagnosis == \"M\" için compactness_mean kolonu\n",
        "\n",
        "compactness_mean = data_M.compactness_mean.describe()\n",
        "compactness_mean"
      ],
      "execution_count": null,
      "outputs": [
        {
          "output_type": "execute_result",
          "data": {
            "text/plain": [
              "count    212.000000\n",
              "mean       0.145188\n",
              "std        0.053987\n",
              "min        0.046050\n",
              "25%        0.109600\n",
              "50%        0.132350\n",
              "75%        0.172400\n",
              "max        0.345400\n",
              "Name: compactness_mean, dtype: float64"
            ]
          },
          "metadata": {},
          "execution_count": 102
        }
      ]
    },
    {
      "cell_type": "code",
      "metadata": {
        "colab": {
          "base_uri": "https://localhost:8080/"
        },
        "id": "vQxyYjqnOHhJ",
        "outputId": "1a758b97-a402-498d-cb0c-13f7ddf5f1bc"
      },
      "source": [
        "# Outlier verileri bulmak için alt ve üst sınırların belirlenmesi\n",
        "\n",
        "Q1 = compactness_mean[4]\n",
        "Q3 = compactness_mean[6]\n",
        "IQR = Q3 - Q1\n",
        "\n",
        "print(f\"IQR: {IQR}\\n\")\n",
        "\n",
        "upper = Q3 + (1.5 * IQR) # üst sınır\n",
        "lower = Q1 - (1.5 * IQR) # alt sınır\n",
        "\n",
        "print(f\"Alt Sınır : {lower}\\n\")\n",
        "print(f\"Üst Sınır : {upper}\\n\")\n",
        "\n",
        "# Outlier verilerin listelenmesi\n",
        "print(\"Outliers:\\n \" , data_M[(data_M[\"compactness_mean\"] > upper) | (data_M[\"compactness_mean\"] < lower) ].compactness_mean.values)\n"
      ],
      "execution_count": null,
      "outputs": [
        {
          "output_type": "stream",
          "name": "stdout",
          "text": [
            "IQR: 0.06280000000000001\n",
            "\n",
            "Alt Sınır : 0.015399999999999983\n",
            "\n",
            "Üst Sınır : 0.2666\n",
            "\n",
            "Outliers:\n",
            "  [0.2776 0.2839 0.3454 0.2768 0.2867 0.2832 0.3114 0.277 ]\n"
          ]
        }
      ]
    },
    {
      "cell_type": "code",
      "metadata": {
        "colab": {
          "base_uri": "https://localhost:8080/",
          "height": 353
        },
        "id": "F734qVLUOHZe",
        "outputId": "81cd1e16-73e7-4031-f795-ac4739336884"
      },
      "source": [
        "# # BoxPlot ile sınırları ve outlier verileri görebiliriz.\n",
        "sns.boxplot(data_M.compactness_mean)"
      ],
      "execution_count": null,
      "outputs": [
        {
          "output_type": "stream",
          "name": "stderr",
          "text": [
            "/usr/local/lib/python3.7/dist-packages/seaborn/_decorators.py:43: FutureWarning: Pass the following variable as a keyword arg: x. From version 0.12, the only valid positional argument will be `data`, and passing other arguments without an explicit keyword will result in an error or misinterpretation.\n",
            "  FutureWarning\n"
          ]
        },
        {
          "output_type": "execute_result",
          "data": {
            "text/plain": [
              "<matplotlib.axes._subplots.AxesSubplot at 0x7fb9e8dacd50>"
            ]
          },
          "metadata": {},
          "execution_count": 104
        },
        {
          "output_type": "display_data",
          "data": {
            "image/png": "[encoded data removed]",
            "text/plain": [
              "<Figure size 432x288 with 1 Axes>"
            ]
          },
          "metadata": {
            "needs_background": "light"
          }
        }
      ]
    },
    {
      "cell_type": "code",
      "metadata": {
        "colab": {
          "base_uri": "https://localhost:8080/",
          "height": 386
        },
        "id": "3S5Mw37chNnb",
        "outputId": "798283ee-1c1c-48e8-e952-6f2b36744348"
      },
      "source": [
        "### DistPlot ile değişkenimizin dağılımını görebiliriz.\n",
        "\n",
        "sns.displot(data_M.compactness_mean, kde=True)"
      ],
      "execution_count": null,
      "outputs": [
        {
          "output_type": "execute_result",
          "data": {
            "text/plain": [
              "<seaborn.axisgrid.FacetGrid at 0x7fb9e0176e10>"
            ]
          },
          "metadata": {},
          "execution_count": 112
        },
        {
          "output_type": "display_data",
          "data": {
            "image/png": "[encoded data removed]",
            "text/plain": [
              "<Figure size 360x360 with 1 Axes>"
            ]
          },
          "metadata": {
            "needs_background": "light"
          }
        }
      ]
    },
    {
      "cell_type": "markdown",
      "metadata": {
        "id": "TKkipZCtNnDY"
      },
      "source": [
        "## Sonuç"
      ]
    },
    {
      "cell_type": "markdown",
      "metadata": {
        "id": "Q_HoY87l5NuU"
      },
      "source": [
        "Ana datamı `\"diagnosis\"` kolonuna göre ayırıp, birbiriyle benzer değerlerden oluşan gruplar içerisinde outlier değerleri bulmayı tercih ettim.\n",
        "\n",
        "Elde ettiğim sonuçlara göre;  \n",
        "\n",
        "`\"diagnosis == 'B' \"` için;\n",
        "\n",
        "*   **\"radius_mean\"** kolonunda 3,\n",
        "*   **\"area_mean\"** kolonunda 4,\n",
        "*   **\"compactness_mean\"** kolonunda 9\n",
        "\n",
        "`\"diagnosis == 'M'\"` için;  \n",
        "\n",
        "*   **\"radius_mean\"** kolonunda 3,\n",
        "*   **\"area_mean\"** kolonunda 4,\n",
        "*   **\"compactness_mean\"** kolonunda 8 adet outlier veri var.\n",
        "\n",
        "\n",
        "\n",
        "Bulduğumuz bu aykırı değerler için önemli veya önemsiz olarak yorum yapamayız. Bu aykırı değerler insan hatasından, örnekleme hatalarından, yanlış raporlamadan vb. kaynaklanabilirler. Aykırı değerlerimiz bize normal verilerin vermediği önemli bilgileri veriyorsa bu değerler aykırı olmasına rağmen oldukça önemlidir. Eğer bu aykırı değerler bizlere yanlış bilgi aktarıyorsa önemsiz olarak kabul edebiliriz.\n",
        "\n",
        "Örneğin;  \n",
        "1929 yılında Dr. Fredrick McKay'ın tedavi ettiği bir grup hasta nüfusun geri kalanından farklıydı. Bu hastaların diş minelerinde kahverengi benekler vardı. Bu benekler sayesinde bu hastaların dişleri çürümeye karşı dayanıklıydı. Dr. Fredrick McKay, bu hastalar üzerinde yaptığı çalışmalar sonucunda Florürün diş çürümesine karşı koruma sağladığını keşfetmiştir.\n",
        "\n",
        "[Dr. Fredric McKay](https://www.psychologytoday.com/us/blog/singular-perspective/202102/the-importance-outliers)\n",
        "\n",
        "\n",
        "\n",
        "---\n",
        "\n",
        "\n",
        "\n",
        "\n",
        "\n",
        "* En fazla outlier values her iki sınıf içinde (diagnosis == \"B\" ve diagnosis == \"M\") `\"compactness_mean\"` kolonunda olduğundan dolayı bu değerler istatistiksel sonuçlar üzerinde diğer kolonlara oranla daha fazla bozulmaya neden olur.\n",
        "\n",
        "![resim_2021-10-04_215404.png](data:image/png;base64,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)\n",
        "[Symmetric and skewed data](https://intl.siyavula.com/read/maths/grade-11/statistics/11-statistics-05)\n",
        "\n",
        "\n",
        "\n",
        "\n",
        "\n",
        "\n",
        "\n",
        "\n",
        "\n"
      ]
    },
    {
      "cell_type": "markdown",
      "metadata": {
        "id": "HcAGpjhmG2cB"
      },
      "source": [
        "* `diagnosis == \"B\"` için grafikleri incelediğimde;\n",
        "\n",
        "\n",
        "> \"radius_mean\" kolonu için \"mean\" ve \"median\" değerleri birbirine oldukça yakın ve \"median\" değeri grafiği yaklaşık olarak iki eş parçaya böldüğü için normal dağılıma yakın diyebiliriz.\n",
        "\n",
        "\n",
        "> \"area_mean\" kolonu için \"mean\" değeri \"median\" değerinden büyük ve \"median\" değerine göre sağ kuyruk sol kuyruktan uzun olduğu için pozitif çarpık durumuna yakın diyebiliriz. \n",
        "\n",
        "> \"compactness_mean\" kolonu için \"mean\" değeri \"median\" değerinden büyük ve \"median\" değerine göre sağ kuyruk sol kuyruktan uzun olduğu için pozitif çarpık durumuna yakın diyebiliriz.\n",
        "\n",
        "\n",
        "* `diagnosis == \"M\"` için grafikleri incelediğimde;\n",
        "\n",
        "> \"radius_mean\" kolonu için \"mean\" değeri \"median\" değerinden büyük ve \"median\" değerine göre sağ kuyruk sol kuyruktan daha uzun olduğu için pozitif çarpık durumuna yakın diyebiliriz.\n",
        "\n",
        "\n",
        "> \"area_mean\" kolonu için \"mean\" değeri \"median\" değerinden büyük ve \"median\" değerine göre sağ kuyruk sol kuyruktan uzun olduğu için pozitif çarpık durumuna yakın diyebiliriz. \n",
        "\n",
        "\n",
        "> \"compactness_mean\" kolonu için \"mean\" değeri \"median\" değerinden büyük ve \"median\" değerine göre sağ kuyruk sol kuyruktan uzun olduğu için pozitif çarpık durumuna yakın diyebiliriz.\n",
        "\n",
        "---\n",
        "\n",
        "* Hücrelere bakarak \"diagnosis\" kolonu için bir model kurduğumuzu varsayalım;\n",
        "\n",
        "> Genel olarak \"radius_mean, area_mean, compactness_mean\" hücrelerine baktığımızda hepsi pozitif çarpık durumuna yakın diyebiliriz. Yani daha düşük değere sahip daha fazla veri noktası vardır. Bu yüzden modelimizi bu veriler ile eğittiğimizde daha düşük \"radius_mean, area_mean, \"compactness_mean\" değerlerine sahip hücrelerin teşhisini daha yüksek \"radius_mean, area_mean, compactness_mean\" değerlerine sahip hücrelere kıyasla daha doğru yapabilir diyebiliriz."
      ]
    }
  ]
}