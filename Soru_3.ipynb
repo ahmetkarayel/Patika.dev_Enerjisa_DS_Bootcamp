{
  "nbformat": 4,
  "nbformat_minor": 0,
  "metadata": {
    "colab": {
      "name": "Soru-3.ipynb",
      "provenance": [],
      "collapsed_sections": [],
      "toc_visible": true
    },
    "kernelspec": {
      "name": "python3",
      "display_name": "Python 3"
    },
    "language_info": {
      "name": "python"
    }
  },
  "cells": [
    {
      "cell_type": "markdown",
      "metadata": {
        "id": "QQUK2-be278u"
      },
      "source": [
        "# SORU 3"
      ]
    },
    {
      "cell_type": "markdown",
      "metadata": {
        "id": "8BEZBPeW3Cw6"
      },
      "source": [
        "`3.` **Ekli data üzerindeki aşağıda yer alan kolonların birbirleriyle olan korelasyonlarını, covaryanslarını, Pearson Correlation Coefficientlarını, Spearman Rank Coefficientlarını ve Effect Size'larını bularak sözel ve karşılaştırmalı olarak yorumlayalım**"
      ]
    },
    {
      "cell_type": "code",
      "metadata": {
        "colab": {
          "base_uri": "https://localhost:8080/"
        },
        "id": "dKMQkHdZ20du",
        "outputId": "a9bdf794-9e35-4a82-dbc6-8b581f1ea9c4"
      },
      "source": [
        "from google.colab import drive \n",
        "drive.mount('/content/drive')"
      ],
      "execution_count": null,
      "outputs": [
        {
          "output_type": "stream",
          "name": "stdout",
          "text": [
            "Mounted at /content/drive\n"
          ]
        }
      ]
    },
    {
      "cell_type": "code",
      "metadata": {
        "id": "QLHaA8GN3MTK"
      },
      "source": [
        "import os\n",
        "os.chdir('/content/drive/My Drive/Colab Notebooks')"
      ],
      "execution_count": null,
      "outputs": []
    },
    {
      "cell_type": "code",
      "metadata": {
        "id": "7p5ftJJz3UgD"
      },
      "source": [
        "import pandas as pd\n",
        "import seaborn as sns\n",
        "import numpy as np\n"
      ],
      "execution_count": null,
      "outputs": []
    },
    {
      "cell_type": "code",
      "metadata": {
        "colab": {
          "base_uri": "https://localhost:8080/",
          "height": 238
        },
        "id": "mJVUPLxv3S7L",
        "outputId": "4c16a8e8-a3f6-4185-abff-415f96e7f5ed"
      },
      "source": [
        "# Verilen .csv dosyası .read_csv() metoduyla okundu.\n",
        "\n",
        "df = pd.read_csv(\"data.csv\")\n",
        "df.head()"
      ],
      "execution_count": null,
      "outputs": [
        {
          "output_type": "execute_result",
          "data": {
            "text/html": [
              "<div>\n",
              "<style scoped>\n",
              "    .dataframe tbody tr th:only-of-type {\n",
              "        vertical-align: middle;\n",
              "    }\n",
              "\n",
              "    .dataframe tbody tr th {\n",
              "        vertical-align: top;\n",
              "    }\n",
              "\n",
              "    .dataframe thead th {\n",
              "        text-align: right;\n",
              "    }\n",
              "</style>\n",
              "<table border=\"1\" class=\"dataframe\">\n",
              "  <thead>\n",
              "    <tr style=\"text-align: right;\">\n",
              "      <th></th>\n",
              "      <th>id</th>\n",
              "      <th>diagnosis</th>\n",
              "      <th>radius_mean</th>\n",
              "      <th>texture_mean</th>\n",
              "      <th>perimeter_mean</th>\n",
              "      <th>area_mean</th>\n",
              "      <th>smoothness_mean</th>\n",
              "      <th>compactness_mean</th>\n",
              "      <th>concavity_mean</th>\n",
              "      <th>concave points_mean</th>\n",
              "      <th>symmetry_mean</th>\n",
              "      <th>fractal_dimension_mean</th>\n",
              "      <th>radius_se</th>\n",
              "      <th>texture_se</th>\n",
              "      <th>perimeter_se</th>\n",
              "      <th>area_se</th>\n",
              "      <th>smoothness_se</th>\n",
              "      <th>compactness_se</th>\n",
              "      <th>concavity_se</th>\n",
              "      <th>concave points_se</th>\n",
              "      <th>symmetry_se</th>\n",
              "      <th>fractal_dimension_se</th>\n",
              "      <th>radius_worst</th>\n",
              "      <th>texture_worst</th>\n",
              "      <th>perimeter_worst</th>\n",
              "      <th>area_worst</th>\n",
              "      <th>smoothness_worst</th>\n",
              "      <th>compactness_worst</th>\n",
              "      <th>concavity_worst</th>\n",
              "      <th>concave points_worst</th>\n",
              "      <th>symmetry_worst</th>\n",
              "      <th>fractal_dimension_worst</th>\n",
              "      <th>Unnamed: 32</th>\n",
              "    </tr>\n",
              "  </thead>\n",
              "  <tbody>\n",
              "    <tr>\n",
              "      <th>0</th>\n",
              "      <td>842302</td>\n",
              "      <td>M</td>\n",
              "      <td>17.99</td>\n",
              "      <td>10.38</td>\n",
              "      <td>122.80</td>\n",
              "      <td>1001.0</td>\n",
              "      <td>0.11840</td>\n",
              "      <td>0.27760</td>\n",
              "      <td>0.3001</td>\n",
              "      <td>0.14710</td>\n",
              "      <td>0.2419</td>\n",
              "      <td>0.07871</td>\n",
              "      <td>1.0950</td>\n",
              "      <td>0.9053</td>\n",
              "      <td>8.589</td>\n",
              "      <td>153.40</td>\n",
              "      <td>0.006399</td>\n",
              "      <td>0.04904</td>\n",
              "      <td>0.05373</td>\n",
              "      <td>0.01587</td>\n",
              "      <td>0.03003</td>\n",
              "      <td>0.006193</td>\n",
              "      <td>25.38</td>\n",
              "      <td>17.33</td>\n",
              "      <td>184.60</td>\n",
              "      <td>2019.0</td>\n",
              "      <td>0.1622</td>\n",
              "      <td>0.6656</td>\n",
              "      <td>0.7119</td>\n",
              "      <td>0.2654</td>\n",
              "      <td>0.4601</td>\n",
              "      <td>0.11890</td>\n",
              "      <td>NaN</td>\n",
              "    </tr>\n",
              "    <tr>\n",
              "      <th>1</th>\n",
              "      <td>842517</td>\n",
              "      <td>M</td>\n",
              "      <td>20.57</td>\n",
              "      <td>17.77</td>\n",
              "      <td>132.90</td>\n",
              "      <td>1326.0</td>\n",
              "      <td>0.08474</td>\n",
              "      <td>0.07864</td>\n",
              "      <td>0.0869</td>\n",
              "      <td>0.07017</td>\n",
              "      <td>0.1812</td>\n",
              "      <td>0.05667</td>\n",
              "      <td>0.5435</td>\n",
              "      <td>0.7339</td>\n",
              "      <td>3.398</td>\n",
              "      <td>74.08</td>\n",
              "      <td>0.005225</td>\n",
              "      <td>0.01308</td>\n",
              "      <td>0.01860</td>\n",
              "      <td>0.01340</td>\n",
              "      <td>0.01389</td>\n",
              "      <td>0.003532</td>\n",
              "      <td>24.99</td>\n",
              "      <td>23.41</td>\n",
              "      <td>158.80</td>\n",
              "      <td>1956.0</td>\n",
              "      <td>0.1238</td>\n",
              "      <td>0.1866</td>\n",
              "      <td>0.2416</td>\n",
              "      <td>0.1860</td>\n",
              "      <td>0.2750</td>\n",
              "      <td>0.08902</td>\n",
              "      <td>NaN</td>\n",
              "    </tr>\n",
              "    <tr>\n",
              "      <th>2</th>\n",
              "      <td>84300903</td>\n",
              "      <td>M</td>\n",
              "      <td>19.69</td>\n",
              "      <td>21.25</td>\n",
              "      <td>130.00</td>\n",
              "      <td>1203.0</td>\n",
              "      <td>0.10960</td>\n",
              "      <td>0.15990</td>\n",
              "      <td>0.1974</td>\n",
              "      <td>0.12790</td>\n",
              "      <td>0.2069</td>\n",
              "      <td>0.05999</td>\n",
              "      <td>0.7456</td>\n",
              "      <td>0.7869</td>\n",
              "      <td>4.585</td>\n",
              "      <td>94.03</td>\n",
              "      <td>0.006150</td>\n",
              "      <td>0.04006</td>\n",
              "      <td>0.03832</td>\n",
              "      <td>0.02058</td>\n",
              "      <td>0.02250</td>\n",
              "      <td>0.004571</td>\n",
              "      <td>23.57</td>\n",
              "      <td>25.53</td>\n",
              "      <td>152.50</td>\n",
              "      <td>1709.0</td>\n",
              "      <td>0.1444</td>\n",
              "      <td>0.4245</td>\n",
              "      <td>0.4504</td>\n",
              "      <td>0.2430</td>\n",
              "      <td>0.3613</td>\n",
              "      <td>0.08758</td>\n",
              "      <td>NaN</td>\n",
              "    </tr>\n",
              "    <tr>\n",
              "      <th>3</th>\n",
              "      <td>84348301</td>\n",
              "      <td>M</td>\n",
              "      <td>11.42</td>\n",
              "      <td>20.38</td>\n",
              "      <td>77.58</td>\n",
              "      <td>386.1</td>\n",
              "      <td>0.14250</td>\n",
              "      <td>0.28390</td>\n",
              "      <td>0.2414</td>\n",
              "      <td>0.10520</td>\n",
              "      <td>0.2597</td>\n",
              "      <td>0.09744</td>\n",
              "      <td>0.4956</td>\n",
              "      <td>1.1560</td>\n",
              "      <td>3.445</td>\n",
              "      <td>27.23</td>\n",
              "      <td>0.009110</td>\n",
              "      <td>0.07458</td>\n",
              "      <td>0.05661</td>\n",
              "      <td>0.01867</td>\n",
              "      <td>0.05963</td>\n",
              "      <td>0.009208</td>\n",
              "      <td>14.91</td>\n",
              "      <td>26.50</td>\n",
              "      <td>98.87</td>\n",
              "      <td>567.7</td>\n",
              "      <td>0.2098</td>\n",
              "      <td>0.8663</td>\n",
              "      <td>0.6869</td>\n",
              "      <td>0.2575</td>\n",
              "      <td>0.6638</td>\n",
              "      <td>0.17300</td>\n",
              "      <td>NaN</td>\n",
              "    </tr>\n",
              "    <tr>\n",
              "      <th>4</th>\n",
              "      <td>84358402</td>\n",
              "      <td>M</td>\n",
              "      <td>20.29</td>\n",
              "      <td>14.34</td>\n",
              "      <td>135.10</td>\n",
              "      <td>1297.0</td>\n",
              "      <td>0.10030</td>\n",
              "      <td>0.13280</td>\n",
              "      <td>0.1980</td>\n",
              "      <td>0.10430</td>\n",
              "      <td>0.1809</td>\n",
              "      <td>0.05883</td>\n",
              "      <td>0.7572</td>\n",
              "      <td>0.7813</td>\n",
              "      <td>5.438</td>\n",
              "      <td>94.44</td>\n",
              "      <td>0.011490</td>\n",
              "      <td>0.02461</td>\n",
              "      <td>0.05688</td>\n",
              "      <td>0.01885</td>\n",
              "      <td>0.01756</td>\n",
              "      <td>0.005115</td>\n",
              "      <td>22.54</td>\n",
              "      <td>16.67</td>\n",
              "      <td>152.20</td>\n",
              "      <td>1575.0</td>\n",
              "      <td>0.1374</td>\n",
              "      <td>0.2050</td>\n",
              "      <td>0.4000</td>\n",
              "      <td>0.1625</td>\n",
              "      <td>0.2364</td>\n",
              "      <td>0.07678</td>\n",
              "      <td>NaN</td>\n",
              "    </tr>\n",
              "  </tbody>\n",
              "</table>\n",
              "</div>"
            ],
            "text/plain": [
              "         id diagnosis  ...  fractal_dimension_worst  Unnamed: 32\n",
              "0    842302         M  ...                  0.11890          NaN\n",
              "1    842517         M  ...                  0.08902          NaN\n",
              "2  84300903         M  ...                  0.08758          NaN\n",
              "3  84348301         M  ...                  0.17300          NaN\n",
              "4  84358402         M  ...                  0.07678          NaN\n",
              "\n",
              "[5 rows x 33 columns]"
            ]
          },
          "metadata": {},
          "execution_count": 36
        }
      ]
    },
    {
      "cell_type": "code",
      "metadata": {
        "colab": {
          "base_uri": "https://localhost:8080/",
          "height": 238
        },
        "id": "K0Hv1FiL3YDn",
        "outputId": "8e7a5cac-8c56-404d-8214-565277ff4b5e"
      },
      "source": [
        "# .drop metoduyla gereksiz kolonlardan arındırıldı.\n",
        "\n",
        "df = df.drop([\"id\", \"Unnamed: 32\"], axis=1)\n",
        "df.head()"
      ],
      "execution_count": null,
      "outputs": [
        {
          "output_type": "execute_result",
          "data": {
            "text/html": [
              "<div>\n",
              "<style scoped>\n",
              "    .dataframe tbody tr th:only-of-type {\n",
              "        vertical-align: middle;\n",
              "    }\n",
              "\n",
              "    .dataframe tbody tr th {\n",
              "        vertical-align: top;\n",
              "    }\n",
              "\n",
              "    .dataframe thead th {\n",
              "        text-align: right;\n",
              "    }\n",
              "</style>\n",
              "<table border=\"1\" class=\"dataframe\">\n",
              "  <thead>\n",
              "    <tr style=\"text-align: right;\">\n",
              "      <th></th>\n",
              "      <th>diagnosis</th>\n",
              "      <th>radius_mean</th>\n",
              "      <th>texture_mean</th>\n",
              "      <th>perimeter_mean</th>\n",
              "      <th>area_mean</th>\n",
              "      <th>smoothness_mean</th>\n",
              "      <th>compactness_mean</th>\n",
              "      <th>concavity_mean</th>\n",
              "      <th>concave points_mean</th>\n",
              "      <th>symmetry_mean</th>\n",
              "      <th>fractal_dimension_mean</th>\n",
              "      <th>radius_se</th>\n",
              "      <th>texture_se</th>\n",
              "      <th>perimeter_se</th>\n",
              "      <th>area_se</th>\n",
              "      <th>smoothness_se</th>\n",
              "      <th>compactness_se</th>\n",
              "      <th>concavity_se</th>\n",
              "      <th>concave points_se</th>\n",
              "      <th>symmetry_se</th>\n",
              "      <th>fractal_dimension_se</th>\n",
              "      <th>radius_worst</th>\n",
              "      <th>texture_worst</th>\n",
              "      <th>perimeter_worst</th>\n",
              "      <th>area_worst</th>\n",
              "      <th>smoothness_worst</th>\n",
              "      <th>compactness_worst</th>\n",
              "      <th>concavity_worst</th>\n",
              "      <th>concave points_worst</th>\n",
              "      <th>symmetry_worst</th>\n",
              "      <th>fractal_dimension_worst</th>\n",
              "    </tr>\n",
              "  </thead>\n",
              "  <tbody>\n",
              "    <tr>\n",
              "      <th>0</th>\n",
              "      <td>M</td>\n",
              "      <td>17.99</td>\n",
              "      <td>10.38</td>\n",
              "      <td>122.80</td>\n",
              "      <td>1001.0</td>\n",
              "      <td>0.11840</td>\n",
              "      <td>0.27760</td>\n",
              "      <td>0.3001</td>\n",
              "      <td>0.14710</td>\n",
              "      <td>0.2419</td>\n",
              "      <td>0.07871</td>\n",
              "      <td>1.0950</td>\n",
              "      <td>0.9053</td>\n",
              "      <td>8.589</td>\n",
              "      <td>153.40</td>\n",
              "      <td>0.006399</td>\n",
              "      <td>0.04904</td>\n",
              "      <td>0.05373</td>\n",
              "      <td>0.01587</td>\n",
              "      <td>0.03003</td>\n",
              "      <td>0.006193</td>\n",
              "      <td>25.38</td>\n",
              "      <td>17.33</td>\n",
              "      <td>184.60</td>\n",
              "      <td>2019.0</td>\n",
              "      <td>0.1622</td>\n",
              "      <td>0.6656</td>\n",
              "      <td>0.7119</td>\n",
              "      <td>0.2654</td>\n",
              "      <td>0.4601</td>\n",
              "      <td>0.11890</td>\n",
              "    </tr>\n",
              "    <tr>\n",
              "      <th>1</th>\n",
              "      <td>M</td>\n",
              "      <td>20.57</td>\n",
              "      <td>17.77</td>\n",
              "      <td>132.90</td>\n",
              "      <td>1326.0</td>\n",
              "      <td>0.08474</td>\n",
              "      <td>0.07864</td>\n",
              "      <td>0.0869</td>\n",
              "      <td>0.07017</td>\n",
              "      <td>0.1812</td>\n",
              "      <td>0.05667</td>\n",
              "      <td>0.5435</td>\n",
              "      <td>0.7339</td>\n",
              "      <td>3.398</td>\n",
              "      <td>74.08</td>\n",
              "      <td>0.005225</td>\n",
              "      <td>0.01308</td>\n",
              "      <td>0.01860</td>\n",
              "      <td>0.01340</td>\n",
              "      <td>0.01389</td>\n",
              "      <td>0.003532</td>\n",
              "      <td>24.99</td>\n",
              "      <td>23.41</td>\n",
              "      <td>158.80</td>\n",
              "      <td>1956.0</td>\n",
              "      <td>0.1238</td>\n",
              "      <td>0.1866</td>\n",
              "      <td>0.2416</td>\n",
              "      <td>0.1860</td>\n",
              "      <td>0.2750</td>\n",
              "      <td>0.08902</td>\n",
              "    </tr>\n",
              "    <tr>\n",
              "      <th>2</th>\n",
              "      <td>M</td>\n",
              "      <td>19.69</td>\n",
              "      <td>21.25</td>\n",
              "      <td>130.00</td>\n",
              "      <td>1203.0</td>\n",
              "      <td>0.10960</td>\n",
              "      <td>0.15990</td>\n",
              "      <td>0.1974</td>\n",
              "      <td>0.12790</td>\n",
              "      <td>0.2069</td>\n",
              "      <td>0.05999</td>\n",
              "      <td>0.7456</td>\n",
              "      <td>0.7869</td>\n",
              "      <td>4.585</td>\n",
              "      <td>94.03</td>\n",
              "      <td>0.006150</td>\n",
              "      <td>0.04006</td>\n",
              "      <td>0.03832</td>\n",
              "      <td>0.02058</td>\n",
              "      <td>0.02250</td>\n",
              "      <td>0.004571</td>\n",
              "      <td>23.57</td>\n",
              "      <td>25.53</td>\n",
              "      <td>152.50</td>\n",
              "      <td>1709.0</td>\n",
              "      <td>0.1444</td>\n",
              "      <td>0.4245</td>\n",
              "      <td>0.4504</td>\n",
              "      <td>0.2430</td>\n",
              "      <td>0.3613</td>\n",
              "      <td>0.08758</td>\n",
              "    </tr>\n",
              "    <tr>\n",
              "      <th>3</th>\n",
              "      <td>M</td>\n",
              "      <td>11.42</td>\n",
              "      <td>20.38</td>\n",
              "      <td>77.58</td>\n",
              "      <td>386.1</td>\n",
              "      <td>0.14250</td>\n",
              "      <td>0.28390</td>\n",
              "      <td>0.2414</td>\n",
              "      <td>0.10520</td>\n",
              "      <td>0.2597</td>\n",
              "      <td>0.09744</td>\n",
              "      <td>0.4956</td>\n",
              "      <td>1.1560</td>\n",
              "      <td>3.445</td>\n",
              "      <td>27.23</td>\n",
              "      <td>0.009110</td>\n",
              "      <td>0.07458</td>\n",
              "      <td>0.05661</td>\n",
              "      <td>0.01867</td>\n",
              "      <td>0.05963</td>\n",
              "      <td>0.009208</td>\n",
              "      <td>14.91</td>\n",
              "      <td>26.50</td>\n",
              "      <td>98.87</td>\n",
              "      <td>567.7</td>\n",
              "      <td>0.2098</td>\n",
              "      <td>0.8663</td>\n",
              "      <td>0.6869</td>\n",
              "      <td>0.2575</td>\n",
              "      <td>0.6638</td>\n",
              "      <td>0.17300</td>\n",
              "    </tr>\n",
              "    <tr>\n",
              "      <th>4</th>\n",
              "      <td>M</td>\n",
              "      <td>20.29</td>\n",
              "      <td>14.34</td>\n",
              "      <td>135.10</td>\n",
              "      <td>1297.0</td>\n",
              "      <td>0.10030</td>\n",
              "      <td>0.13280</td>\n",
              "      <td>0.1980</td>\n",
              "      <td>0.10430</td>\n",
              "      <td>0.1809</td>\n",
              "      <td>0.05883</td>\n",
              "      <td>0.7572</td>\n",
              "      <td>0.7813</td>\n",
              "      <td>5.438</td>\n",
              "      <td>94.44</td>\n",
              "      <td>0.011490</td>\n",
              "      <td>0.02461</td>\n",
              "      <td>0.05688</td>\n",
              "      <td>0.01885</td>\n",
              "      <td>0.01756</td>\n",
              "      <td>0.005115</td>\n",
              "      <td>22.54</td>\n",
              "      <td>16.67</td>\n",
              "      <td>152.20</td>\n",
              "      <td>1575.0</td>\n",
              "      <td>0.1374</td>\n",
              "      <td>0.2050</td>\n",
              "      <td>0.4000</td>\n",
              "      <td>0.1625</td>\n",
              "      <td>0.2364</td>\n",
              "      <td>0.07678</td>\n",
              "    </tr>\n",
              "  </tbody>\n",
              "</table>\n",
              "</div>"
            ],
            "text/plain": [
              "  diagnosis  radius_mean  ...  symmetry_worst  fractal_dimension_worst\n",
              "0         M        17.99  ...          0.4601                  0.11890\n",
              "1         M        20.57  ...          0.2750                  0.08902\n",
              "2         M        19.69  ...          0.3613                  0.08758\n",
              "3         M        11.42  ...          0.6638                  0.17300\n",
              "4         M        20.29  ...          0.2364                  0.07678\n",
              "\n",
              "[5 rows x 31 columns]"
            ]
          },
          "metadata": {},
          "execution_count": 37
        }
      ]
    },
    {
      "cell_type": "code",
      "metadata": {
        "colab": {
          "base_uri": "https://localhost:8080/",
          "height": 202
        },
        "id": "1mZr1euE3elm",
        "outputId": "67702773-78b1-4705-b290-9e6f28766d2e"
      },
      "source": [
        "# Datamız ilgilenilen kolonlara göre filtrelendi.\n",
        "\n",
        "data = df.iloc[:,[1,4,6]]\n",
        "data.head()"
      ],
      "execution_count": null,
      "outputs": [
        {
          "output_type": "execute_result",
          "data": {
            "text/html": [
              "<div>\n",
              "<style scoped>\n",
              "    .dataframe tbody tr th:only-of-type {\n",
              "        vertical-align: middle;\n",
              "    }\n",
              "\n",
              "    .dataframe tbody tr th {\n",
              "        vertical-align: top;\n",
              "    }\n",
              "\n",
              "    .dataframe thead th {\n",
              "        text-align: right;\n",
              "    }\n",
              "</style>\n",
              "<table border=\"1\" class=\"dataframe\">\n",
              "  <thead>\n",
              "    <tr style=\"text-align: right;\">\n",
              "      <th></th>\n",
              "      <th>radius_mean</th>\n",
              "      <th>area_mean</th>\n",
              "      <th>compactness_mean</th>\n",
              "    </tr>\n",
              "  </thead>\n",
              "  <tbody>\n",
              "    <tr>\n",
              "      <th>0</th>\n",
              "      <td>17.99</td>\n",
              "      <td>1001.0</td>\n",
              "      <td>0.27760</td>\n",
              "    </tr>\n",
              "    <tr>\n",
              "      <th>1</th>\n",
              "      <td>20.57</td>\n",
              "      <td>1326.0</td>\n",
              "      <td>0.07864</td>\n",
              "    </tr>\n",
              "    <tr>\n",
              "      <th>2</th>\n",
              "      <td>19.69</td>\n",
              "      <td>1203.0</td>\n",
              "      <td>0.15990</td>\n",
              "    </tr>\n",
              "    <tr>\n",
              "      <th>3</th>\n",
              "      <td>11.42</td>\n",
              "      <td>386.1</td>\n",
              "      <td>0.28390</td>\n",
              "    </tr>\n",
              "    <tr>\n",
              "      <th>4</th>\n",
              "      <td>20.29</td>\n",
              "      <td>1297.0</td>\n",
              "      <td>0.13280</td>\n",
              "    </tr>\n",
              "  </tbody>\n",
              "</table>\n",
              "</div>"
            ],
            "text/plain": [
              "   radius_mean  area_mean  compactness_mean\n",
              "0        17.99     1001.0           0.27760\n",
              "1        20.57     1326.0           0.07864\n",
              "2        19.69     1203.0           0.15990\n",
              "3        11.42      386.1           0.28390\n",
              "4        20.29     1297.0           0.13280"
            ]
          },
          "metadata": {},
          "execution_count": 38
        }
      ]
    },
    {
      "cell_type": "markdown",
      "metadata": {
        "id": "83xC0C3PbgLD"
      },
      "source": [
        "## Korelasyon"
      ]
    },
    {
      "cell_type": "markdown",
      "metadata": {
        "id": "VjbluGLideuf"
      },
      "source": [
        "Korelasyon kısaca iki değişkenin birbiri ile olan ilişkisini ve derecesini gösterir. \n",
        "Değişkenlerimiz arasında -1 ve 1 arasında bir derecelendirme yapar. Fakat bu derecelendirmelere bakarak her zaman neden-sonuç ilişkisi kuramayız. Örneğin doğal olarak radius_mean arttığı için area_mean artıyor olabilir fakat her zaman bu geçerli değildir.\n"
      ]
    },
    {
      "cell_type": "code",
      "metadata": {
        "colab": {
          "base_uri": "https://localhost:8080/",
          "height": 141
        },
        "id": "yYP3Risk5nsZ",
        "outputId": "e648caee-2766-4123-c02a-ed68ebff59b3"
      },
      "source": [
        "# İlgilenilen alanlar arasındaki korelasyon ilişkisi\n",
        "\n",
        "data.corr()"
      ],
      "execution_count": null,
      "outputs": [
        {
          "output_type": "execute_result",
          "data": {
            "text/html": [
              "<div>\n",
              "<style scoped>\n",
              "    .dataframe tbody tr th:only-of-type {\n",
              "        vertical-align: middle;\n",
              "    }\n",
              "\n",
              "    .dataframe tbody tr th {\n",
              "        vertical-align: top;\n",
              "    }\n",
              "\n",
              "    .dataframe thead th {\n",
              "        text-align: right;\n",
              "    }\n",
              "</style>\n",
              "<table border=\"1\" class=\"dataframe\">\n",
              "  <thead>\n",
              "    <tr style=\"text-align: right;\">\n",
              "      <th></th>\n",
              "      <th>radius_mean</th>\n",
              "      <th>area_mean</th>\n",
              "      <th>compactness_mean</th>\n",
              "    </tr>\n",
              "  </thead>\n",
              "  <tbody>\n",
              "    <tr>\n",
              "      <th>radius_mean</th>\n",
              "      <td>1.000000</td>\n",
              "      <td>0.987357</td>\n",
              "      <td>0.506124</td>\n",
              "    </tr>\n",
              "    <tr>\n",
              "      <th>area_mean</th>\n",
              "      <td>0.987357</td>\n",
              "      <td>1.000000</td>\n",
              "      <td>0.498502</td>\n",
              "    </tr>\n",
              "    <tr>\n",
              "      <th>compactness_mean</th>\n",
              "      <td>0.506124</td>\n",
              "      <td>0.498502</td>\n",
              "      <td>1.000000</td>\n",
              "    </tr>\n",
              "  </tbody>\n",
              "</table>\n",
              "</div>"
            ],
            "text/plain": [
              "                  radius_mean  area_mean  compactness_mean\n",
              "radius_mean          1.000000   0.987357          0.506124\n",
              "area_mean            0.987357   1.000000          0.498502\n",
              "compactness_mean     0.506124   0.498502          1.000000"
            ]
          },
          "metadata": {},
          "execution_count": 7
        }
      ]
    },
    {
      "cell_type": "code",
      "metadata": {
        "colab": {
          "base_uri": "https://localhost:8080/",
          "height": 287
        },
        "id": "47oxPZ1a6ocY",
        "outputId": "fbaaabbb-f790-456f-9683-ca12fc59f982"
      },
      "source": [
        "# Korelasyon ısı haritası\n",
        "\n",
        "sns.heatmap(data.corr(), annot=True)"
      ],
      "execution_count": null,
      "outputs": [
        {
          "output_type": "execute_result",
          "data": {
            "text/plain": [
              "<matplotlib.axes._subplots.AxesSubplot at 0x7f4fdafd53d0>"
            ]
          },
          "metadata": {},
          "execution_count": 8
        },
        {
          "output_type": "display_data",
          "data": {
            "image/png": "[encoded data removed]",
            "text/plain": [
              "<Figure size 432x288 with 2 Axes>"
            ]
          },
          "metadata": {
            "needs_background": "light"
          }
        }
      ]
    },
    {
      "cell_type": "markdown",
      "metadata": {
        "id": "AqcOsSB_bkMP"
      },
      "source": [
        "## Kovaryans"
      ]
    },
    {
      "cell_type": "markdown",
      "metadata": {
        "id": "NIsZku4_fnUk"
      },
      "source": [
        "Kovaryans kısaca iki değişken arasındaki ilişkiyi gösterir. İki değişkenin ilişkili olup olmadığını öğrenmenin en basit yolu bu iki değişkenin birbirlerine göre değişimini gösteren kovaryans değerini hesaplamaktır.\n",
        "İki değişken arasındaki ilişki yok ise 0, ters ise \"negatif\", doğru ise \"pozitif\" değerler döndürür."
      ]
    },
    {
      "cell_type": "code",
      "metadata": {
        "colab": {
          "base_uri": "https://localhost:8080/",
          "height": 141
        },
        "id": "VR22h1NO6uMo",
        "outputId": "1e011c43-2241-4410-b590-efba7ffd3ab2"
      },
      "source": [
        "# İlgilenen kolonlar arasındaki kovaryans ilişkisi\n",
        "\n",
        "data.cov()"
      ],
      "execution_count": null,
      "outputs": [
        {
          "output_type": "execute_result",
          "data": {
            "text/html": [
              "<div>\n",
              "<style scoped>\n",
              "    .dataframe tbody tr th:only-of-type {\n",
              "        vertical-align: middle;\n",
              "    }\n",
              "\n",
              "    .dataframe tbody tr th {\n",
              "        vertical-align: top;\n",
              "    }\n",
              "\n",
              "    .dataframe thead th {\n",
              "        text-align: right;\n",
              "    }\n",
              "</style>\n",
              "<table border=\"1\" class=\"dataframe\">\n",
              "  <thead>\n",
              "    <tr style=\"text-align: right;\">\n",
              "      <th></th>\n",
              "      <th>radius_mean</th>\n",
              "      <th>area_mean</th>\n",
              "      <th>compactness_mean</th>\n",
              "    </tr>\n",
              "  </thead>\n",
              "  <tbody>\n",
              "    <tr>\n",
              "      <th>radius_mean</th>\n",
              "      <td>12.418920</td>\n",
              "      <td>1224.483409</td>\n",
              "      <td>0.094197</td>\n",
              "    </tr>\n",
              "    <tr>\n",
              "      <th>area_mean</th>\n",
              "      <td>1224.483409</td>\n",
              "      <td>123843.554318</td>\n",
              "      <td>9.264931</td>\n",
              "    </tr>\n",
              "    <tr>\n",
              "      <th>compactness_mean</th>\n",
              "      <td>0.094197</td>\n",
              "      <td>9.264931</td>\n",
              "      <td>0.002789</td>\n",
              "    </tr>\n",
              "  </tbody>\n",
              "</table>\n",
              "</div>"
            ],
            "text/plain": [
              "                  radius_mean      area_mean  compactness_mean\n",
              "radius_mean         12.418920    1224.483409          0.094197\n",
              "area_mean         1224.483409  123843.554318          9.264931\n",
              "compactness_mean     0.094197       9.264931          0.002789"
            ]
          },
          "metadata": {},
          "execution_count": 9
        }
      ]
    },
    {
      "cell_type": "markdown",
      "metadata": {
        "id": "9n38VrakSqH1"
      },
      "source": [
        "## Pearson correlation coefficient"
      ]
    },
    {
      "cell_type": "code",
      "metadata": {
        "id": "T9NCGTng7xsI"
      },
      "source": [
        "import scipy.stats"
      ],
      "execution_count": null,
      "outputs": []
    },
    {
      "cell_type": "code",
      "metadata": {
        "colab": {
          "base_uri": "https://localhost:8080/"
        },
        "id": "mZTzbnq_-L1k",
        "outputId": "a7608ff3-3f3f-4fca-ce66-8f8929a5e409"
      },
      "source": [
        "# radius_mean - area_mean kolonları arasındaki pearson analizi\n",
        "\n",
        "scipy.stats.pearsonr(data.radius_mean, data.area_mean)\n",
        "print(\"r: \",scipy.stats.pearsonr(data.radius_mean, data.area_mean)[0])\n",
        "print(\"P-value: \",scipy.stats.pearsonr(data.radius_mean, data.area_mean)[1])"
      ],
      "execution_count": null,
      "outputs": [
        {
          "output_type": "stream",
          "name": "stdout",
          "text": [
            "r:  0.9873571700566125\n",
            "P-value:  0.0\n"
          ]
        }
      ]
    },
    {
      "cell_type": "code",
      "metadata": {
        "colab": {
          "base_uri": "https://localhost:8080/"
        },
        "id": "fctUuB6L-YNh",
        "outputId": "8aacff35-9161-4e37-b36f-b93755f5ca3e"
      },
      "source": [
        "# radius_mean - compactness_mean kolonları arasındaki pearson analizi\n",
        "\n",
        "scipy.stats.pearsonr(data.radius_mean, data.compactness_mean)\n",
        "print(\"r: \",scipy.stats.pearsonr(data.radius_mean, data.compactness_mean)[0])\n",
        "print(\"P-value: \",scipy.stats.pearsonr(data.radius_mean, data.compactness_mean)[1])"
      ],
      "execution_count": null,
      "outputs": [
        {
          "output_type": "stream",
          "name": "stdout",
          "text": [
            "r:  0.5061235775263633\n",
            "P-value:  2.4142374076953946e-38\n"
          ]
        }
      ]
    },
    {
      "cell_type": "code",
      "metadata": {
        "colab": {
          "base_uri": "https://localhost:8080/"
        },
        "id": "iEszAQFS-fqZ",
        "outputId": "5452cf4d-0bb3-4384-8395-bc98fe81e8fb"
      },
      "source": [
        "# area_mean - compactness_mean kolonları arasındaki pearson analizi\n",
        "\n",
        "scipy.stats.pearsonr(data.area_mean, data.compactness_mean)\n",
        "print(\"r: \",scipy.stats.pearsonr(data.area_mean, data.compactness_mean)[0])\n",
        "print(\"P-value: \",scipy.stats.pearsonr(data.area_mean, data.compactness_mean)[1])"
      ],
      "execution_count": null,
      "outputs": [
        {
          "output_type": "stream",
          "name": "stdout",
          "text": [
            "r:  0.49850168215241175\n",
            "P-value:  4.469262412798543e-37\n"
          ]
        }
      ]
    },
    {
      "cell_type": "markdown",
      "metadata": {
        "id": "-gVA69DwD8-z"
      },
      "source": [
        "\n",
        "\n",
        "---\n",
        "\n",
        "\n",
        "* **H0: Değişkenler arasındaki korelasyon anlamsız.**  \n",
        "* **H1: Değişkenler arasındaki korelasyon anlamlı.**  \n",
        "* **p-value = 0.05**\n",
        "\n",
        "\n",
        "\n",
        "---\n",
        "**Yaklaşım - 1**\n",
        "\n",
        "> Tüm kolonlar arasında \"Pearson Korelasyonu\" sonucu bulduğumuz p-value değerini bulduktan sonra önceden belirlediğim p-value değeri ile karşılaştırabiliriz.\n",
        "\n",
        "> H0 hipotezini çürütmek için değişkenler arasında anlamlı bir ilişki bulmalıyız. Bunun için \"Pearson Korelasyon\" işlemi sonucunda bulduğumuz p-value değeri bizim belirlediğimiz p-value değerini karşılaştırmalıyız.\n",
        "\n",
        "\n",
        "\n",
        ">>> Bulunan p-value < 0.05 ise H0 hipotezini reddederiz.\n",
        ">>> Bulunan p-value > 0.05 ise H0 hipotezini kabul ederiz.\n",
        "\n",
        "\n",
        "\n",
        "---\n",
        "\n",
        "* \"radius_mean\" ve \"area_mean\" kolonları için Pearson analizi sonucu bulduğumuz p-value değeri: \"0.0\".\n",
        "\n",
        ">>> 0.0 < 0.05 olduğu için H0 hipotezini redderiz. Yani \"radius_mean\" ve \"area_mean\" kolonları arasındaki ilişki anlamlıdır.\n",
        "\n",
        "* \"radius_mean\" ve \"compactness_mean\" kolonları için Pearson analizi sonucu bulduğumuz p-value değeri: \"2.4142374076953946e-38\".\n",
        "\n",
        ">>> 2.4142374076953946e-38 < 0.05 olduğu için H0 hipotezini redderiz. Yani \"radius_mean\" ve \"compactness_mean\" kolonları arasındaki ilişki anlamlıdır.\n",
        "\n",
        "* \"area_mean\" ve \"compactness_mean\" kolonları için Pearson analizi sonucu bulduğumuz p-value değeri: \"4.469262412798543e-37\".\n",
        "\n",
        ">>> 4.469262412798543e-37 < 0.05 olduğu için H0 hipotezini redderiz. Yani \"area_mean\" ve \"compactness_mean\" kolonları arasındaki ilişki anlamlıdır.\n",
        "\n",
        "---\n",
        "\n",
        "\n",
        "\n",
        "\n",
        "\n",
        "\n",
        "\n",
        "\n",
        "\n",
        "\n",
        "\n"
      ]
    },
    {
      "cell_type": "markdown",
      "metadata": {
        "id": "u0UkYFRHVJ-J"
      },
      "source": [
        "**Yaklaşım - 2**\n",
        "\n",
        "![resim_2021-10-05_010315.png](data:image/png;base64,iVBORw0KGgoAAAANSUhEUgAAARoAAACHCAYAAADJPJaTAAAdJklEQVR4nO2dTWsbSbT3/3mYryDwwoHYkrMQ3tgIY8wsWiFgk62FvJ3IkhaDt1fT8t2M4Yla0drMwpJNliNF3gYLwqgXgzEeRV4EtIj1EoghIv0h+i66W6qufpFaVlu2c34giNTd1VXnVJ2qOqec80RVVRUEQRA+8svBwcGs60AQxCPnyfLyMq1o7hHhcBitVmvW1fgpIdn7Qzgcxi8A8Pnz51nXhdA5ODhAq9UincwAkr0/HBwc4P/NuhIEQTx+yNAQBOE7ZGgIgvAdMjQEQfgOGRqCIHyHDA1BEL5DhoYgCN8hQ0MQhO+QoSEIwnfI0BAE4TsuhuYKucVdlPvcz/0KEotBLCQqUHyoUDMfxEL+yoeSHwdKdRcLdnrBFXKLQeQad1CJhmTSv1LdZb4rKCeCWFgMYmFRQvMOqnNnNCS9XfxnOu00y9E8/szXjH6gvf9OdH5LfvF0d7+CxEYWKFygFwv4VCViNDLE/QpenMRxH7QQiB2jF9O/9OuoyUmcdrNYnWmtfEKQcMnJXanuYm1RunWbTXJ0vabgnw8yUpUO9iO3eOEdMv7WSTcy9XQVJyYjw85g3GqkX0EiUUE5z13jZgZni8yVvRhEojpcR7FWnZ3lrasirZzhsy51NmaSqjT1GWtqpJNIyVn8UXVfUzrJB8BwZaq3r8zNmNbZW5dBQ8JCvATIWazpvw1m24aEhY0s6ihhm9PVYyYQ20MKbVwP5KutLq191tqfWdkOVy1XyC3GUIQMcUMbH+Zr6xBloBj3b2cxbcY0NFfI6UamJ64wvysoJ9YhPq+i1+2g171A/kvMPHDlLGqhC+26uKJ3VOC029F+O5fQjtttBfiyO7gsCKhnRO3ehoS1TGhYTiUEcUNT2OrLJHB0NjQO+iy7FwuMV2fIED8EcWlcF0rYvlfbuS3sV5JDWdigVHex9mFTb4NZPoY+UdD1ch5ELSMPH25IWIi3kT/Xn+1WkYIug0gWvUpSm9n5GTySRe9cQhRJnHY73IT0s6AZibYh224Vocy6bmwC2DnpDPqzJlcgWkhyK6EV7HerSEFA/pxftaxgv3uBvACkKh307smqdhRjGBrDugrI/7ZivtQoQZSTOB0YnwB2chKiR4fMABCw+ashCgXlv0pIVZgOOhfH2wIgvuMHsq4UxrAFft1E1KmakSx6RsePbCGFEs70lZLybw319JZ2baw6A6nfDQUG8OKVAHy5vl8zRySL07S2hbLW6wrFDJDPMZ0wksVpuoTDqgI0zlAUJLw1DMFcHHtpc9m97jF25owfVrDFXidMNPMxFIVNvJgDlOqhWbZY0SeFkmVV3MzHULTsEB4nI3w0MsQNGUhXcYoYtjm/gPK1DQibeMo+MreEEGoO5d2gIwNFOYgifym951iLZj6I7SPjm4BNAIgkkRfWsb1YAgBuv6oNjMOvChAJ4FtbRurl8YR1vr+silWkFmP4oxrFCbu371+jDRnFjSBE7ploQZfB8y3TTPg0JABfuJuN7bLxnYyNvmXMcj8mcdrVxkWzLQPP98yrjPkgouiYnlCqu9g+SuK0y03ej5TRzuDBdknr1Gv5JW775J1xnVgDAyNIuOzGEehXkNgwDIK24tkx7osHtVXXuTYTr75Mov5XHUpsCWdHSWzxI+5RoM2WC3ER5V95Qz2UBY9SHVEsY2BSlQ5OIrqMp1TrB42NM9gzDQlrGSB//kgd5jaM2Dqx2yWtU+MoNnDeBp6FALmDb+wj/Wu0HcubR1AA2l/H2YRc4exI26OO2oeuioYvRUbtX73syBZScg3/VM9QNLZNE9X5njPYQh0O2zC3hBBkdG7sHwk8C1m2gt/aQx+NttXUfFgPJapxX9BWhtw2+6YzXBXiCrl4CdFC3nYSeKx4O7AXyeKyIKBoOG8jSc5RqqC8n0U9vecgxAB2fuedmHxEiIUdLLpD2vjakMzRoH4dNZn1B61gKy1DzJSQesmswDzX+f6zKlaRkmWmM68gVRBQjLPRMuacTWTLHLXqV3B4xBXKDBZtme9rEx4NgdgeFxE0DEsSq1BQTvw8fhkWb+doAARieeQ/rEPc2AXOj7FzcgEk1rGwqN9giUxxRLK4LOxijfEfRAsXNoI3tgWGP0dA/ryK1EYMtX8V7MSyOE0HBz4aQFvms8ZCiz4BW6ZZOeC9zvceTVbF+FAWgdgxTttW+WgrlBXsn0tIbKxjIQMASeQLAurtJW3lqOt44ItIV3FZANYyZ2iKK1iNbCElx7C2WEP+/Bgv7q6hDwAtYpRbNGTL9O9+BTUZgBzDgslwCzZy1CbK7Y0gaoULvL2r6vvEk+XlZfXR/mfMDQkLH7celBE5ODhAtVq98/8gW6nuYq2996BkNW1mJfvHzqP/z8mbH7ltE6HBbztxhWJGJlkRvuF56/QgYE4x98iZaSViv+0kxy/hF4/T0MzFcdKNz7oW95pVsYPeowz5E/eRR711IgjifkCGhiAI3yFDQxCE75ChIQjCd8jQEAThO2RoCILwHTI0BEH4zpN4PK6Gw+FZ14NgaLVaIJ3MBpK9PzxZXl5WZ10JYkg4HEar1Zp1NX5KSPb+EA6HtZPB9Edk94eDgwO0Wi3SyQwg2fvDo/+jSoIg7gdkaAiC8B0yNARB+A4ZGoIgfIcMDUEQvkOGhiAI3yFDQxCE75ChIQjCd8jQEAThO2RoCILwHRdDo2U2XLB8dpkskzr9ChL67818EAuDLJCjUaq7WEhUoLCZFHW8lvXzYtaVfdbPIUp111WfzTyj70QFzqVpWUZZnU0Dc/3YtDBuXCFn1zcbknvf9cpE5TnJyYPeGtIIXYxXh0HdR42rfgUJl7p51tHy8rJqT1N9s5BQ//7O/fxfTn1m97sPfJIW1WdS0/8X3SP+/PNP1VkndvxQ/369qL5+/0P/3lTfLCyqb/5zuPt9Qn22kFM/GT/8lzN9/yQtWq+/Lqs/LCUN3+30rong6vPjfcLl/QZamy398ntZfc3+xpXNM1L2HsvTW6D+/XpRfWbRiTe9uethNOaxxL+b43tZfW2qi7luWh9i5PC9rL4eIVfvhkbllM8L39IooxPoH8ZwWDuRuUF2whmt2IeNZ0Nj09l/vE84GGi7DsYaC7vO7mRMhgPo2YJ1wFh/Hwe7+jn3Q1U1DOOi+lrKjeiHbm3RGCV7r+VpA3JRfSblrHL1orf/csPxY5kkjN9dJn+bMepmuOyM+7Bu9kbqk+Ss6z///FOdyEcT+HUTUbmDbyPv1JKatwsX6HU76HUvkP8SG7m0ty9nHeLzKnrdLFYnqfQjRfnaBoQgnjK/BZ6FgKMzm+VsADsnHS7P+Q06MnuPgOC89T3tr7zOtBzmeUFLPqeVeYXcIqvvKkKZdQ/61uoSesbWbx5BQUbtX4cyQhIuux2c/BbkLii4/gJEQ2xjAlh6DhQ/TrIdn6S8TZx2O+iJW9bSvOgtkkWvkgQECZdG/29IWIi3kT/vaLKuhCBuOGzlbjqoI4QlJi895oOIyjX8Y3N/IHaM3kkcrBa+tU2dhNORRr19Y/NyjcmcwXNLCKGNa8/7XbuOPppmfh0iJFz+xHmhXXm+ZOoUmA8iOuajSvUQRUFCKgIYieXFfcYX0ChBlJ2ftyvr7UC/K9ivJFHPlMb0swBWQ6cNZidWY+YBwcMPiKchYeya3La8QCzuPilOrDcF5b9KiBby2DGMRySL07QM8Z2D0eOMmjaGx6RfweGRgPxvKwACePFKQDHO+GX6FRweuRfhc9QpgJ3fk6hn1sdwLDpwFMP2ERB9FXXtUIR3lOou1jJAPjccrKviBfLIYs1w9H3cwml6vPK+teVbGT1iXOxWfrc3orbo6aXBGLVA7Bin6RK2jT6yD+wV3N89maHpX6PNL8WciGS1pd25hKisd2AvkSRBwuW5BGTE20cMHjpcJGAgxy/XZgN+00F9RFEDI3N+PJwVARirTm3r00FPnMf1F/ul8u3gopqDSUhGx7QC17Ysk8Jv+fgtwEzLm0BvE8O7OvrXaI96ZmBkLiy7kFWR6SMncaAtc9tKMxMZGuXfGur8UmwUc3GcdDvaXtPWf+DA8yUE5uLY45f0PyOGDAdGYEXb13OdSPnaBtJbjsv2Zj6ItUwIp13eyNjQr6Mm2/tteJ6GBA+DZwX7XXNnDWAeQYEfzDfoyAI2f/Vq6LQtl9lvoBmt1MtJtuDTLW8SvQ2xk5OL0ZsPIsq7Om46qAubeOGk/4aEhY0sQpVxXB1XODtyn4y8G5qGZF5uzy0hBMZZZ9qvabF71hnY/FgaCFMT9tAhpVQPUXR47apYRUrO4g/PjuRHTiSJvFDC4UAuVyhmZMfOr1R3sX2UxKmDU918dklBeT+LenpvtEECEIjtcTq6Qi5eQrSQHNOBb2y1hz4dze/jMiBcWP1NQvTocLgSbpQgyklsRbyXNfXyPOrNjCEnZpXfkLA98KNwGBP1O0avf5Wc3RH9ChLxElKVDvZt2jY8+6bRzMcYP58D7uFtJixtF16zC7O9Lquf2DCdHpNnr7NBMCM8qYVCm6ZwoSWceIdneGaF93M0quoaUjaFUZ10yj5jDluPOrsxDOHaH2fwFt7myrT0N5fzH3Yh3EH7xwgBq2PK3qU85zM/TmdkvMjK5qyQh7ZZ9GoTpjfez45J04dpm/ke9yMnI87RTJcf7xPTPdj1SJnM0LjzSXpEZ4++l9U3Exivcbi97H+of0uTH6qbKT7L9c7+1ikQO8bWx9HH44kp06/gEOPs+x8GzXc1BD37a+6IRgm10MOMjvot1198K5mlIWEhXgIgIH/+ENXwgJmL40ScdSWmx6p4fH+NZiSLkwn9P7PGb7nejaGJZNHrZu/kVQRB3D/ov4kgCMJ3yNAQBOE7ZGgIgvAdMjQEQfgOGRqCIHyHDA1BEL5DhoYgCN95Eo/H1XA4POt6EAytVgukk9lAsveHJ8vLy+qsK0EMCYfDaLVas67GTwnJ3h/C4bB2Mvjz58+zrguhc3BwgFarRTqZASR7fzg4OCAfDUEQ/kOGhiAI3yFDQxCE75ChIQjCd8jQEAThO2RoCILwHTI0BEH4DhkagiB8hwwNQRC+Q4aGIAjfGcPQcDmSF8dLmaJUd73l2B6BOYPifUaTV65x9+/0oh8NayZRQJe1JSe28/PTbqtS3WX6mzQifbK57Za6NCSmrN3b52/3VJ4mH2e9eNBbQxqhi1GY6+JlLPGZKQe/ja2jUYamIWFhMYZ24WKYI7l7gc0P67dsNDE9FJQTrI6qCGXWxxr8SlWEyKVrbuaDespcXd+/d7B2l7puSHpecO39l4U2th3ff4Uc2z/PJbTjzODvV5CIt5E/19tSCUHcGD0oHPFUnoJyYh3i86qDXibX2yQ082xdLpD/EhtvQupX8EfG3EmU6q6WFtuQw3kQh6OMzaiUuPbZJc0pNH+8T6iv35cH6T3/t5CwptHkU+OOSuFpuj+nvrFNjzssj63nJ2lRffPeeN54z4hUr1z9zOlJuVSypnSiXApXKWeRmznF6xTSsrKYUt4y7+PqaOF7WX39Oqe+MaWYtdP5D1OaYv53q7xukxLXLuVtU33jJDNL221Su9qkfnXKmDpK9p7Ks0nRa3rei95MfZ15ZtyUuHbpgv/LjUx3rLUvob6R2FS/9mmJP0nOunbPVNk4QxFOCcz1JOMf6oOZpp6pIahbuP//P8e4LAhAuoreSRyBfgWJjSxCleGqKC/IEPcdZir+/gpQPGLrJmEhjuGsy89kAIqZDva6HfS6x9iZ02aX2qvhyuz0eRZrg+XjFXKm+rGzizZrgq07Mxto1n04A5+ihCJv/T9s4rI7pVmVQ/naBoQgnjK/BZ6FgKMzl3coKO/XsJlLImi5JiA4b32i/ZXXVAA7JxfIC0Cq0sFJLADLCkOX4/hbuRt0ZCD0jE0yOI+gIKP2r00Zer6wQeKzfh01WcDmrwEACq6/ANEQ25gAlp4DxY+TbME9ljcXx0n3GDtzxg9XODsCUi9XtNK86C2SRa+SBAQJl0Z7GxIWLKsrh63cTQd1hLA0x/w2H0RUruEfl62fUhVRe5VHKmS9ZtaRRr1941iWo6GxE4SJ+SCicgffjO/CJl7MOdw7F8dJt4P9gdEK4MUrwbFSyr811AUJKeP+SBan6cFVlP8qIVVhOthcHG8LgPiOUXiaSQPbKEGEhLexoXBWxSpSR4co9wGleogi+z6sYF+vr1I9RDFdNdV9JycBmRKaUPDPBxnRQnLwrlWxitTgLVcoZoB8Lj5MkxrJ4jRdwuE0UwM/XzKnYZ0PIup2f6ME8fkeMwgMVrCV5iaARsmyvXLCkONQzivYryRRz5Q8GFbe0GmD2R3d17GRBQp5U7v4AfE05NzvxsF7eYZvJMb1I3jXG1vmXyVE2bZGsjhNy+YxwMKP5bkl2NgPhisUMyHsxXiDoo3dYpyZLPsVHB7BlTuOOg2dX2sZ5977rS1blDBUqDbrFeNmB7VbecrXNiBnsWZyascGKw+795nqchQzvWthI4s6UxfrDKz/s3+NNmSIG+a6bo9Qir9cIRcHTsUV26ur4gXyYGT1cYsx8u7YynHswXMbtImh1+1gr71+z4IGAeyc6P6m0OGUfJt2/e72RpSlmY8B7GTOEIgd4zRdwrbRR/aBvYL7ux1T4gaehQB9xWKbLfumg7oQxNuxqq0tqYsAooUL9GIBfUsx1sO2pCod8+wwCkHC5Uncti0jZ9t0FT3bgXmFs9EvRv782Gb1MAH6lrLO1OsyBODLNRSsDNt200EdwJ5NEVoH6rjkWdYGxs7gu4JyAgi9nHbO9GGfAKDrZwmAjM4NgIG8tC3LiOl3wOrLJBA/Q1NMAtC3fJFh3b+1ZdhLZjxuU17g101EMzX804/jBeBJb7eGH8v9a7QBm60zgIaEbVTRcxlfq2IHPSanezOfRTSUd7zfeUUT2UIKJZzZesH1pdurqL0R4mmcoShIuOwae3l3noYEXQlDNIUCxorB6jNwhjWa475vnGv2ddFmGwD68lQfONNA34IOIoDiim3blK9t89ZxgOYnGK4G1yHKQD3jsgrQ/R52fhseW1npg8fKcBXS63Y0X56jPA2/ixm7sOsQbctl9htoRsvwk3jDY3kNyTXs601vPPZjYDhG+NuDiKKNa9Yfc9NB3cHd0fxYMq3i1zKyviNwao/Wr+z8NgNcIxy6V9vsTdajDYzH+sf7hMWDbfKg8x52w1vu6PXmoh/G/abyWC/6eNEGa9TKqBMfbWHL066xMjC1l2vbJ8kcBdMiTmx0wS2aN0HUyRIFcC/f/VledjZys3l++C5eVlbZjYSTp13fGsK3lXsfH22xifSwjJS9p/J42fKy9Kg3PkrEjwHLmDBjp9dx9cLrgP/+SXIby5pc3Q2NqqqW0K5Nx7HtDINwsaYIYwAODMwIwZjCza/L6t+c8TCHjN0Gi1M7uA7Ch9/Z5/lrdkZ1UI+ypcOY2j7CCHg3NNa2mfTjaTAMf3M8BsCXYLR9IK/bhLe5Mi16sqmv67EEdfwQsDqm7F3Ks44D92MR3mRl3MsblzGPi/B6tZmInd5vN77NfdrZeKvq2IaGuEsmMzTufJLcO8KD4ntZfTOB8RqH28v+h/q3NOpsyj3FZ7nS3zo9dvoVHGKcff/DoPmuhqCNv+Ze0CihFhrTb3nP8FuujlEn4pEwF8eJOPq2h8KqeHx/jWYkixMvkdB7hN9ypRUNQRC+Q4aGIAjfIUNDEITvkKEhCMJ3yNAQBOE7ZGgIgvAdMjQEQfgOGRqCIHznSTweV8Ph8KzrQTC0Wi2QTmYDyd4fniwvL6uzrgQxJBwOo9VqzboaPyUke38Ih8PanyB8/vx51nUhdA4ODtBqtUgnM4Bk7w8HBwfkoyEIwn/I0BAE4TtkaAiC8B0yNARB+A4ZGoIgfIcMDUEQvkOGhiAI3yFDQxCE75ChIQjCd8jQEAThOw6G5gq5xaBDulH92iCFqvY917BJUdqvILG4i3LfUsitcE+F+jOi60T/JKrukmnmh/dqH7OOlOouc805rauWl1vTvR8o1V3nVL0DRrS9ITm2cyK8lNevILHIydrUHg96a0hT6vPj6mzKcnVMmKVnABwrK6UTfArRKeGpDg8M/1PiNtU3bpkFPaWk5VPiTg9rBkzn9zu2faYpcbU2OGefvGVK3IkYZqt019n05eq8dZqL421BQD0jDq1Vv4I/MkA+F9eTZA1XMwN76bba0K2gYR3NMys/c5otqtvMppUz/ZXTg6BRgignsRczkn+tIFUQUPzoIK/+NdpCEE9tLyoo/1VCtJAc5PgJxPaQkmv4xyJbBeXEOkQZKMbZGc/b6spaP20VsJYJIZUece+ItjffZVFP72HHSGQfSSIvlHA24QrMa3nf2rJz4nsvemtIWIiXADmLNXaceFhVaKvUdYjPk0iNaqgPcnX10QRieeQFGeJ+BQoUlPezQCE/fIEXGhIW4m3kzzs4iQWgVHex/UXCZbeDXreDy0Ib2wMDdYXcYgyoaNd63Qvkv8RsO20zH9TLOZ6sXg8c5Wsb4AxH4FkIODqz3/LcdADUsGbbQW/QkcENjnkEBRm1f3nZB7BzcoG8AKQqmk4NvbULF7reqghl1j0bm81KB71uFlsj7nNvu4LrL0A0NG+q89JzOBth97d5LE/B9RcB7b/sJ0tPeotk0askAUHCZTerTQLMeOp1O+hVQhA33IzNJk67HfTEUVL1R64jnMEB7JxUkZKz+CMhQoSEt7EJ0mbeVJCIl5CqOBuDQOwYvRNtpaRUD1FMV7E/yPoXwE5OAjIlkxK+VXexfZTE6Un8QaYhnRrPl8ztnw8i6nCr8rWNuhzSOp1tBxUQZPuQ3onGQakeoiiwfWQF+5Uk6pzeXJmLY8dLtscRbedXFE9DgofCrYxf3g06sgy8ujBNlqaVuQe9mTFWnsykH8niNC1DfGc/2AOxuLdMlFOW6xhRJ72zyOyWyQsyxHgWdSSxxXQgbUme1WdWsyX+1paBo5jZibaRRd1UbBbbGRlIP5680ndBIHaMnjErAiM7qBe+teVbDJ7Hxgr2u8ZKDzAmy+jR4RS2+HYrz9sbUT8ZL7w9H0QUISxNuDVJVTo4TZewbfKzaIrodS+07dkG56dJV/WZgP0wAwRJnHarSB3FfIt63Dv4KIYhzy/XZp/YTcdslEdg7qAyOjfsVW2pPH04H9ykEZURbW9/NZf6rS1P8pbplDe3hBD7/ZZ685Upy/UOztFoS/HV3yREbY1CADsn2n4+Bc2h9DQkWBtqKTaIp4aTKu4Wgn1EzMVxwhpecUXbO8sdfGNuU762HVZ6WmiT95l8a8v6nnseQYHvRDfoyAI2fx29lrXVm+PgMSYa/TPB9te97dqWr95mraZmNFMvVzy+CYDX8hqSNcDRv0Zbn7C96Y3HTk+3N6IGfsj1loZGa/DQCXSFYsahsXoUyzAKluhU4wxFfXtlbKv+YAaEUzRLc1jzq6WfCN3jf8hEfYoZ2UHpAbx4JZh9Jg0J20dGhCGAnd/NPhXN77KJF2OsZq16u0Iubo5iTZURbdcmN2arokdTtrz4gBg8lRfZQgps3Yxgii4LT3rjMfTERIQbEraPBOR/m8SI8nX3Qa5jndn4XlZfO8XJ9fM2zxYWtVg6G++3nKPR4/hS0xTT1z7ceRtTuYumMwSWsx36vX6c57hrvJ+jUVXjnIMhK9PZDZszDoMzKnZyt1x3OXOj2p13camLRz5J/Dka/nzHGO/7L+faVpaxZO9SnvXMkblu1jNBXmRl3MufXxmvbXw55rHiv1zHMzTEnTGZoXHnk+RuLB4U38vqm1sYLzduL/sf6t/SAz1I6rNc6W+dHjv9Cg7xeCJzzXc1BMfwF82ERgm1UPRBHrXwW66/+FYycT+Yi+NEnHUlpseqeHx/jWYki5MJ/T+zxm+50oqGIAjfIUNDEITvkKEhCMJ3yNAQBOE7ZGgIgvAdMjQEQfjO/wEMXJ4ztH++aQAAAABJRU5ErkJggg==)\n",
        "> Tüm kolonlar arasında \"Pearson Korelasyonu\" sonucu bulduğumuz \"r\" değerine göre yorum yapabiliriz.\n",
        "\n",
        "* \"radius_mean\" ve \"area_mean\" kolonları için \"Pearson correlation coefficient\" r değeri: \"0.9873571700566125\"\n",
        "\n",
        "* \"radius_mean\" ve \"compactness_mean\" kolonları için \"Pearson correlation coefficient\" r değeri: \"0.5061235775263633\"\n",
        "\n",
        "* \"area_mean\" ve \"compactness_mean\" kolonları için \"Pearson correlation coefficient\" r değeri: \"0.49850168215241175\"\n",
        "\n",
        "*Bulduğumuz \"r\" değerlerine göre değerlendirme yapacak olursak;*\n",
        "\n",
        ">> * \"radius_mean\" ve \"area_mean\" kolonları arasında pozitif çok kuvvetli bir ilişki, \n",
        ">> * \"radius_mean\" ve \"compactness_mean\" kolonları için pozitif kuvvetli bir ilişki ve\n",
        ">> * \"area_mean\" ve \"compactness_mean\" kolonları için pozitif kuvvetli bir ilişki var diyebiliriz.\n",
        "\n",
        "---\n",
        "\n",
        "***Özetle kolonlar arasındaki ilişkileri anlam bakımından sıralayacak olursak;***\n",
        "\n",
        "**(radius_mean-area_mean) > (radius_mean-compactness_mean) > (area_mean-compactness_mean)**\n",
        "\n",
        "\n"
      ]
    },
    {
      "cell_type": "markdown",
      "metadata": {
        "id": "5uhw5kGGVjRR"
      },
      "source": [
        "## Spearman correlation coefficient"
      ]
    },
    {
      "cell_type": "code",
      "metadata": {
        "colab": {
          "base_uri": "https://localhost:8080/"
        },
        "id": "hCvYI-JG-m6B",
        "outputId": "ca8db5df-4397-42bd-af7b-a871aab1cf60"
      },
      "source": [
        "# radius_mean - area_mean arasında spearman analizi\n",
        "\n",
        "scipy.stats.spearmanr(data.radius_mean, data.area_mean)\n",
        "print(\"ρ (rho): \", scipy.stats.spearmanr(data.radius_mean, data.area_mean)[0])\n",
        "print(\"P-value: \", scipy.stats.spearmanr(data.radius_mean, data.area_mean)[1])"
      ],
      "execution_count": null,
      "outputs": [
        {
          "output_type": "stream",
          "name": "stdout",
          "text": [
            "ρ (rho):  0.9996020278067481\n",
            "P-value:  0.0\n"
          ]
        }
      ]
    },
    {
      "cell_type": "code",
      "metadata": {
        "colab": {
          "base_uri": "https://localhost:8080/"
        },
        "id": "uIOth6OS-odo",
        "outputId": "36319583-5409-4145-fd47-3519fc4d5246"
      },
      "source": [
        "# radius_mean - compactness_mean arasında spearman analizi\n",
        "\n",
        "scipy.stats.spearmanr(data.radius_mean, data.compactness_mean)\n",
        "print(\"ρ (rho): \", scipy.stats.spearmanr(data.radius_mean, data.compactness_mean)[0])\n",
        "print(\"P-value: \", scipy.stats.spearmanr(data.radius_mean, data.compactness_mean)[1])"
      ],
      "execution_count": null,
      "outputs": [
        {
          "output_type": "stream",
          "name": "stdout",
          "text": [
            "ρ (rho):  0.49757760995795647\n",
            "P-value:  6.3349241442214955e-37\n"
          ]
        }
      ]
    },
    {
      "cell_type": "code",
      "metadata": {
        "colab": {
          "base_uri": "https://localhost:8080/"
        },
        "id": "WFwr90Qs_lLi",
        "outputId": "7da11b32-406f-4c37-96cc-d9fd591c78c8"
      },
      "source": [
        "# area_mean - compactness_mean arasında spearman analizi\n",
        "scipy.stats.spearmanr(data.area_mean, data.compactness_mean)\n",
        "print(\"ρ (rho):\", scipy.stats.spearmanr(data.area_mean, data.compactness_mean)[0])\n",
        "print(\"P-value: \", scipy.stats.spearmanr(data.area_mean, data.compactness_mean)[1])"
      ],
      "execution_count": null,
      "outputs": [
        {
          "output_type": "stream",
          "name": "stdout",
          "text": [
            "ρ (rho): 0.4889883974982949\n",
            "P-value:  1.5419515156000542e-35\n"
          ]
        }
      ]
    },
    {
      "cell_type": "markdown",
      "metadata": {
        "id": "WWHkF9tWQkYF"
      },
      "source": [
        "\n",
        "\n",
        "---\n",
        "**Yaklaşım - 1**\n",
        "\n",
        "* \"radius_mean\" ve \"area_mean\" kolonları için Spearman analizi sonucu bulduğumuz p-value değeri: \"0.0\".\n",
        "\n",
        ">>> 0.0 < 0.05 olduğu için H0 hipotezini redderiz. Yani \"radius_mean\" ve \"area_mean\" kolonları arasındaki ilişki anlamlıdır.\n",
        "\n",
        "* \"radius_mean\" ve \"compactness_mean\" kolonları için Pearson analizi sonucu bulduğumuz p-value değeri: \"6.3349241442214955e-37\".\n",
        "\n",
        ">>> 6.3349241442214955e-37 < 0.05 olduğu için H0 hipotezini redderiz. Yani \"radius_mean\" ve \"compactness_mean\" kolonları arasındaki ilişki anlamlıdır.\n",
        "\n",
        "* \"area_mean\" ve \"compactness_mean\" kolonları için Pearson analizi sonucu bulduğumuz p-value değeri: \"1.5419515156000542e-35\".\n",
        "\n",
        ">>> 1.5419515156000542e-35 < 0.05 olduğu için H0 hipotezini redderiz. Yani \"area_mean\" ve \"compactness_mean\" kolonları arasındaki ilişki anlamlıdır.\n",
        "\n",
        "---\n",
        "\n",
        "**Yaklaşım - 2**\n",
        "\n",
        "\"Pearson correlation coefficient\" ile aynı yorumu yapabiliriz.\n",
        "\n",
        "> Tüm kolonlar arasında \"Spearman correlation coefficient\" sonucu bulduğumuz \"ρ (rho)\" değerine göre yorum yapabiliriz.\n",
        "\n",
        "* \"radius_mean\" ve \"area_mean\" kolonları için \"Spearman correlation coefficient\" ρ (rho) değeri: \"0.9996020278067481\"\n",
        "\n",
        "* \"radius_mean\" ve \"compactness_mean\" kolonları için \"Spearman correlation coefficient\" ρ (rho) değeri: \"0.49757760995795647\"\n",
        "\n",
        "* \"area_mean\" ve \"compactness_mean\" kolonları için \"Spearman correlation coefficient\" ρ (rho) değeri: \"0.4889883974982949\"\n",
        "\n",
        "*Bulduğumuz \"ρ (rho)\" değerlerine göre değerlendirme yapacak olursak;*\n",
        "\n",
        ">> * \"radius_mean\" ve \"area_mean\" kolonları arasında pozitif çok kuvvetli bir ilişki, \n",
        ">> * \"radius_mean\" ve \"compactness_mean\" kolonları için pozitif kuvvetli bir ilişki ve\n",
        ">> * \"area_mean\" ve \"compactness_mean\" kolonları için pozitif kuvvetli bir ilişki var diyebiliriz.\n",
        "\n",
        "---\n",
        "\n",
        "***Özetle kolonlar arasındaki ilişkileri anlam bakımından sıralayacak olursak;***\n",
        "\n",
        "**(radius_mean-area_mean) > (radius_mean-compactness_mean) > (area_mean-compactness_mean)**\n"
      ]
    },
    {
      "cell_type": "markdown",
      "metadata": {
        "id": "MW7IXtEBgDpc"
      },
      "source": [
        "## Effect Size"
      ]
    },
    {
      "cell_type": "markdown",
      "metadata": {
        "id": "-1TgFbXdTfun"
      },
      "source": [
        "* Effect size bize iki grubun bağlılığını gösterir. İki grup arasındaki farkın veya ilişkinin boyutunu vurgular. Effect size değerinin negatif olması büyüklük hakkında bir bilgi vermez.\n",
        "\n",
        "![resim_2021-10-06_144828.png](data:image/png;base64,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)"
      ]
    },
    {
      "cell_type": "code",
      "metadata": {
        "id": "vq8mrSImtqBj"
      },
      "source": [
        "# Cohen's d değerinin bulunması\n",
        "\n",
        "def cohend(d1, d2):\n",
        "\t# calculate the size of samples\n",
        "\tn1, n2 = len(d1), len(d2)\n",
        "\t# calculate the variance of the samples\n",
        "\ts1, s2 = np.var(d1, ddof=1), np.var(d2, ddof=1)\n",
        "\t# calculate the pooled standard deviation\n",
        "\ts = np.sqrt(((n1 - 1) * s1 + (n2 - 1) * s2) / (n1 + n2 - 2))\n",
        "\t# calculate the means of the samples\n",
        "\tu1, u2 = np.mean(d1), np.mean(d2)\n",
        "\t# calculate the effect size\n",
        "\treturn (u1 - u2) / s\n"
      ],
      "execution_count": null,
      "outputs": []
    },
    {
      "cell_type": "code",
      "metadata": {
        "colab": {
          "base_uri": "https://localhost:8080/"
        },
        "id": "DkGFg15o_hCO",
        "outputId": "adc9a0dd-cca6-4b03-e15e-2469827ea220"
      },
      "source": [
        "rad_vs_area = cohend(data.area_mean.values,data.radius_mean.values)\n",
        "rad_vs_compactness = cohend(data.radius_mean.values,data.compactness_mean.values)\n",
        "area_vs_compactness = cohend(data.area_mean.values,data.compactness_mean.values)\n",
        "\n",
        "print(f\"radius_mean ve area_mean için cohen's d değeri: {rad_vs_area}\\n\")\n",
        "print(f\"radius_mean ve compactness_mean için cohen's d değeri: {rad_vs_compactness}\\n\")\n",
        "print(f\"area_mean ve compactness_mean için cohen's d değeri: {area_vs_compactness}\\n\")"
      ],
      "execution_count": null,
      "outputs": [
        {
          "output_type": "stream",
          "name": "stdout",
          "text": [
            "radius_mean ve area_mean için cohen's d değeri: 2.5748571535813936\n",
            "\n",
            "radius_mean ve compactness_mean için cohen's d değeri: 5.626829112228556\n",
            "\n",
            "area_mean ve compactness_mean için cohen's d değeri: 2.6313393087695855\n",
            "\n"
          ]
        }
      ]
    }
  ]
}