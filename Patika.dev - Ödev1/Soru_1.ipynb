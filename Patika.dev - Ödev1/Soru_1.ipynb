{
  "nbformat": 4,
  "nbformat_minor": 0,
  "metadata": {
    "colab": {
      "name": "Soru-1.ipynb",
      "provenance": [],
      "collapsed_sections": [],
      "toc_visible": true
    },
    "kernelspec": {
      "name": "python3",
      "display_name": "Python 3"
    },
    "language_info": {
      "name": "python"
    }
  },
  "cells": [
    {
      "cell_type": "markdown",
      "metadata": {
        "id": "utEKFUId2iXi"
      },
      "source": [
        "# SORU 1"
      ]
    },
    {
      "cell_type": "markdown",
      "metadata": {
        "id": "lRg5_GQwQeUl"
      },
      "source": [
        "`1.`  **Pandas kütüphanesiyle bir DataFrame oluşturup ve içine Levels of Measurements'ları nominal, ordinal, interval ve ratio olan kolonlar ekleyelim.**"
      ]
    },
    {
      "cell_type": "code",
      "metadata": {
        "id": "OuYk-xcxRe1l"
      },
      "source": [
        "import pandas as pd"
      ],
      "execution_count": null,
      "outputs": []
    },
    {
      "cell_type": "markdown",
      "metadata": {
        "id": "OMC4fuwW3ZVy"
      },
      "source": [
        "\n",
        "\n",
        "---\n",
        "* `\"Marka\"` ve `\"Model\"` : **nominal**\n",
        "* `\"İlk Sıcaklık (°C)\"` ve `\"Son Sıcaklık (°C)\"` : **interval**\n",
        "* `\"Sıcaklık Değişimi\"` ve `\"Şarj Değişimi\"`  : **ordinal**\n",
        "* `\"İlk Şarj Oranı (%)\"` ve `\"Son Şarj Oranı (%)\"`: **ratio**\n"
      ]
    },
    {
      "cell_type": "code",
      "metadata": {
        "colab": {
          "base_uri": "https://localhost:8080/",
          "height": 202
        },
        "id": "TZoQblJURjAt",
        "outputId": "033aaa6f-1fb2-4820-ffbc-912c0bbafe76"
      },
      "source": [
        "dict = {\"Marka\": [\"iPhone\", \"Huawei\", \"Xiaomi\", \"Samsung\", \"OnePlus\"],\n",
        "        \"Model\" : [\"12 Pro Max\", \"P50 Pro\", \"Mi 11\", \"S21 Ultra\", \"9 Pro\"], \n",
        "        \"İlk Sıcaklık (°C)\": [30.3, 29.5, 29.9, 27.1, 31.8],\n",
        "        \"Son Sıcaklık (°C)\": [37.2, 34.7, 35.5, 37.7, 38.3],\n",
        "        \"Sıcaklık Değişimi \" : [\"Orta\", \"Düşük\", \"Orta\", \"Yüksek\", \"Orta\"],\n",
        "        \"İlk Şarj Oranı (%)\" : [40, 44, 56, 63, 58],\n",
        "        \"Son Şarj Oranı (%)\" : [32, 35, 49, 51, 52],\n",
        "        \"Şarj Değişimi\" : [\"Orta\", \"Orta\", \"Düşük\", \"Yüksek\", \"Düşük\"]\n",
        "        }\n",
        "\n",
        "# Dict to DataFrame\n",
        "data = pd.DataFrame(dict)\n",
        "data"
      ],
      "execution_count": null,
      "outputs": [
        {
          "output_type": "execute_result",
          "data": {
            "text/html": [
              "<div>\n",
              "<style scoped>\n",
              "    .dataframe tbody tr th:only-of-type {\n",
              "        vertical-align: middle;\n",
              "    }\n",
              "\n",
              "    .dataframe tbody tr th {\n",
              "        vertical-align: top;\n",
              "    }\n",
              "\n",
              "    .dataframe thead th {\n",
              "        text-align: right;\n",
              "    }\n",
              "</style>\n",
              "<table border=\"1\" class=\"dataframe\">\n",
              "  <thead>\n",
              "    <tr style=\"text-align: right;\">\n",
              "      <th></th>\n",
              "      <th>Marka</th>\n",
              "      <th>Model</th>\n",
              "      <th>İlk Sıcaklık (°C)</th>\n",
              "      <th>Son Sıcaklık (°C)</th>\n",
              "      <th>Sıcaklık Değişimi</th>\n",
              "      <th>İlk Şarj Oranı (%)</th>\n",
              "      <th>Son Şarj Oranı (%)</th>\n",
              "      <th>Şarj Değişimi</th>\n",
              "    </tr>\n",
              "  </thead>\n",
              "  <tbody>\n",
              "    <tr>\n",
              "      <th>0</th>\n",
              "      <td>iPhone</td>\n",
              "      <td>12 Pro Max</td>\n",
              "      <td>30.3</td>\n",
              "      <td>37.2</td>\n",
              "      <td>Orta</td>\n",
              "      <td>40</td>\n",
              "      <td>32</td>\n",
              "      <td>Orta</td>\n",
              "    </tr>\n",
              "    <tr>\n",
              "      <th>1</th>\n",
              "      <td>Huawei</td>\n",
              "      <td>P50 Pro</td>\n",
              "      <td>29.5</td>\n",
              "      <td>34.7</td>\n",
              "      <td>Düşük</td>\n",
              "      <td>44</td>\n",
              "      <td>35</td>\n",
              "      <td>Orta</td>\n",
              "    </tr>\n",
              "    <tr>\n",
              "      <th>2</th>\n",
              "      <td>Xiaomi</td>\n",
              "      <td>Mi 11</td>\n",
              "      <td>29.9</td>\n",
              "      <td>35.5</td>\n",
              "      <td>Orta</td>\n",
              "      <td>56</td>\n",
              "      <td>49</td>\n",
              "      <td>Düşük</td>\n",
              "    </tr>\n",
              "    <tr>\n",
              "      <th>3</th>\n",
              "      <td>Samsung</td>\n",
              "      <td>S21 Ultra</td>\n",
              "      <td>27.1</td>\n",
              "      <td>37.7</td>\n",
              "      <td>Yüksek</td>\n",
              "      <td>63</td>\n",
              "      <td>51</td>\n",
              "      <td>Yüksek</td>\n",
              "    </tr>\n",
              "    <tr>\n",
              "      <th>4</th>\n",
              "      <td>OnePlus</td>\n",
              "      <td>9 Pro</td>\n",
              "      <td>31.8</td>\n",
              "      <td>38.3</td>\n",
              "      <td>Orta</td>\n",
              "      <td>58</td>\n",
              "      <td>52</td>\n",
              "      <td>Düşük</td>\n",
              "    </tr>\n",
              "  </tbody>\n",
              "</table>\n",
              "</div>"
            ],
            "text/plain": [
              "     Marka       Model  ...  Son Şarj Oranı (%)  Şarj Değişimi\n",
              "0   iPhone  12 Pro Max  ...                  32           Orta\n",
              "1   Huawei     P50 Pro  ...                  35           Orta\n",
              "2   Xiaomi       Mi 11  ...                  49          Düşük\n",
              "3  Samsung   S21 Ultra  ...                  51         Yüksek\n",
              "4  OnePlus       9 Pro  ...                  52          Düşük\n",
              "\n",
              "[5 rows x 8 columns]"
            ]
          },
          "metadata": {},
          "execution_count": 2
        }
      ]
    }
  ]
}