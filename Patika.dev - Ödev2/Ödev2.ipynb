{
 "cells": [
  {
   "cell_type": "markdown",
   "id": "d37ee696",
   "metadata": {},
   "source": [
    "**Soru-1: One hot encoding modelin görmediği veriye nasıl uygulanır?**"
   ]
  },
  {
   "cell_type": "markdown",
   "id": "beb5fc51",
   "metadata": {},
   "source": [
    "*Train ve Validation datamızı ayırıp, OneHotEncoding uyguladığımızda farklı sayıda kolon oluşacağı için hata alıyoruz. Bunu önlemek için \"handle_unknown=ignore\" parametrisini kullanıyoruz. Bu parametre sayesinde bilinmeyen bir kategorik değişken ile karşılaşırsa bu kolonun tüm değerlerini 0 olarak alır. Bu sayede Train ve Validation datamızdaki kolon sayısı eşitlenmiş olur.*"
   ]
  },
  {
   "attachments": {
    "image-2.png": {
     "image/png": "[encoded data removed]"
    }
   },
   "cell_type": "markdown",
   "id": "e99e54a7",
   "metadata": {},
   "source": [
    "![image-2.png](attachment:image-2.png)"
   ]
  },
  {
   "cell_type": "markdown",
   "id": "ea0a4d06",
   "metadata": {},
   "source": [
    "*Train datamıza OneHotEncoder uyguluyoruz. Oluşturduğumuz bu OneHotEncoding objesini validation datamız için de uygulayacağımız için \"transform\" yapmak yeterli olacaktır.*"
   ]
  },
  {
   "attachments": {
    "image.png": {
     "image/png": "[encoded data removed]"
    }
   },
   "cell_type": "markdown",
   "id": "8f4a0be3",
   "metadata": {},
   "source": [
    "![image.png](attachment:image.png)"
   ]
  },
  {
   "cell_type": "markdown",
   "id": "10e189bc",
   "metadata": {},
   "source": [
    "**Soru-2: Labelencoding'de ilgili kolon için ölçeklendirme nasıl yapılır? (Verinin doğru etkisiyle sayısal olarak dönüştürülmesi)**"
   ]
  },
  {
   "cell_type": "code",
   "execution_count": 19,
   "id": "7c20259a",
   "metadata": {},
   "outputs": [
    {
     "data": {
      "text/html": [
       "<div>\n",
       "<style scoped>\n",
       "    .dataframe tbody tr th:only-of-type {\n",
       "        vertical-align: middle;\n",
       "    }\n",
       "\n",
       "    .dataframe tbody tr th {\n",
       "        vertical-align: top;\n",
       "    }\n",
       "\n",
       "    .dataframe thead th {\n",
       "        text-align: right;\n",
       "    }\n",
       "</style>\n",
       "<table border=\"1\" class=\"dataframe\">\n",
       "  <thead>\n",
       "    <tr style=\"text-align: right;\">\n",
       "      <th></th>\n",
       "      <th>ülke</th>\n",
       "      <th>maaş</th>\n",
       "      <th>durum</th>\n",
       "    </tr>\n",
       "  </thead>\n",
       "  <tbody>\n",
       "    <tr>\n",
       "      <th>0</th>\n",
       "      <td>Türkiye</td>\n",
       "      <td>5000</td>\n",
       "      <td>Hayır</td>\n",
       "    </tr>\n",
       "    <tr>\n",
       "      <th>1</th>\n",
       "      <td>Almanya</td>\n",
       "      <td>10000</td>\n",
       "      <td>Evet</td>\n",
       "    </tr>\n",
       "    <tr>\n",
       "      <th>2</th>\n",
       "      <td>İngiltere</td>\n",
       "      <td>15000</td>\n",
       "      <td>Evet</td>\n",
       "    </tr>\n",
       "  </tbody>\n",
       "</table>\n",
       "</div>"
      ],
      "text/plain": [
       "        ülke   maaş  durum\n",
       "0    Türkiye   5000  Hayır\n",
       "1    Almanya  10000   Evet\n",
       "2  İngiltere  15000   Evet"
      ]
     },
     "execution_count": 19,
     "metadata": {},
     "output_type": "execute_result"
    }
   ],
   "source": [
    "import pandas as pd\n",
    "import numpy as np\n",
    "dict = {\"ülke\": [\"Türkiye\", \"Almanya\", \"İngiltere\"],\n",
    "       \"maaş\": [5000, 10000, 15000],\n",
    "       \"durum\": [\"Hayır\", \"Evet\", \"Evet\"]}\n",
    "data = pd.DataFrame(dict)\n",
    "data.head()\n",
    "\n"
   ]
  },
  {
   "cell_type": "markdown",
   "id": "18e7458d",
   "metadata": {},
   "source": [
    "*Yukarıdaki gibi bir verimiz olduğunu düşünelim. Modelimizi eğitmek için ülke kolonumuzu sayısal verilere dönüştürmeliyiz. LabelEncoding ile bunu yapabiliriz.*"
   ]
  },
  {
   "cell_type": "code",
   "execution_count": 10,
   "id": "e0adf45c",
   "metadata": {},
   "outputs": [
    {
     "data": {
      "text/html": [
       "<div>\n",
       "<style scoped>\n",
       "    .dataframe tbody tr th:only-of-type {\n",
       "        vertical-align: middle;\n",
       "    }\n",
       "\n",
       "    .dataframe tbody tr th {\n",
       "        vertical-align: top;\n",
       "    }\n",
       "\n",
       "    .dataframe thead th {\n",
       "        text-align: right;\n",
       "    }\n",
       "</style>\n",
       "<table border=\"1\" class=\"dataframe\">\n",
       "  <thead>\n",
       "    <tr style=\"text-align: right;\">\n",
       "      <th></th>\n",
       "      <th>ülke</th>\n",
       "      <th>maaş</th>\n",
       "      <th>durum</th>\n",
       "    </tr>\n",
       "  </thead>\n",
       "  <tbody>\n",
       "    <tr>\n",
       "      <th>0</th>\n",
       "      <td>1</td>\n",
       "      <td>5000</td>\n",
       "      <td>Hayır</td>\n",
       "    </tr>\n",
       "    <tr>\n",
       "      <th>1</th>\n",
       "      <td>0</td>\n",
       "      <td>10000</td>\n",
       "      <td>Evet</td>\n",
       "    </tr>\n",
       "    <tr>\n",
       "      <th>2</th>\n",
       "      <td>2</td>\n",
       "      <td>15000</td>\n",
       "      <td>Evet</td>\n",
       "    </tr>\n",
       "  </tbody>\n",
       "</table>\n",
       "</div>"
      ],
      "text/plain": [
       "   ülke   maaş  durum\n",
       "0     1   5000  Hayır\n",
       "1     0  10000   Evet\n",
       "2     2  15000   Evet"
      ]
     },
     "execution_count": 10,
     "metadata": {},
     "output_type": "execute_result"
    }
   ],
   "source": [
    "from sklearn.preprocessing import LabelEncoder\n",
    "le = LabelEncoder()\n",
    "\n",
    "data.loc[:,\"ülke\"] = le.fit_transform(data.loc[:,\"ülke\"])\n",
    "data.head()"
   ]
  },
  {
   "cell_type": "markdown",
   "id": "2d993e8e",
   "metadata": {},
   "source": [
    "*Ülke kolonumuza LabelEncoding uyguladıktan sonra elimizde artık 1 - 0 - 2 değerleri var. Bu değerler sırasıyla \"Türkiye - Almanya - İngiltere\" değerlerine karşılık gelmektedir. Modelimiz 0 <1 <2 mantığıyla hareket ettiği için nominal verilerde LabelEncoding uygulamak mantıklı değildir.* "
   ]
  },
  {
   "cell_type": "code",
   "execution_count": 92,
   "id": "53adecb0",
   "metadata": {},
   "outputs": [
    {
     "data": {
      "text/html": [
       "<div>\n",
       "<style scoped>\n",
       "    .dataframe tbody tr th:only-of-type {\n",
       "        vertical-align: middle;\n",
       "    }\n",
       "\n",
       "    .dataframe tbody tr th {\n",
       "        vertical-align: top;\n",
       "    }\n",
       "\n",
       "    .dataframe thead th {\n",
       "        text-align: right;\n",
       "    }\n",
       "</style>\n",
       "<table border=\"1\" class=\"dataframe\">\n",
       "  <thead>\n",
       "    <tr style=\"text-align: right;\">\n",
       "      <th></th>\n",
       "      <th>Degree</th>\n",
       "    </tr>\n",
       "  </thead>\n",
       "  <tbody>\n",
       "    <tr>\n",
       "      <th>0</th>\n",
       "      <td>High school</td>\n",
       "    </tr>\n",
       "    <tr>\n",
       "      <th>1</th>\n",
       "      <td>Masters</td>\n",
       "    </tr>\n",
       "    <tr>\n",
       "      <th>2</th>\n",
       "      <td>Diploma</td>\n",
       "    </tr>\n",
       "    <tr>\n",
       "      <th>3</th>\n",
       "      <td>Bachelors</td>\n",
       "    </tr>\n",
       "    <tr>\n",
       "      <th>4</th>\n",
       "      <td>Bachelors</td>\n",
       "    </tr>\n",
       "    <tr>\n",
       "      <th>5</th>\n",
       "      <td>Masters</td>\n",
       "    </tr>\n",
       "    <tr>\n",
       "      <th>6</th>\n",
       "      <td>Phd</td>\n",
       "    </tr>\n",
       "    <tr>\n",
       "      <th>7</th>\n",
       "      <td>High school</td>\n",
       "    </tr>\n",
       "    <tr>\n",
       "      <th>8</th>\n",
       "      <td>High school</td>\n",
       "    </tr>\n",
       "  </tbody>\n",
       "</table>\n",
       "</div>"
      ],
      "text/plain": [
       "        Degree\n",
       "0  High school\n",
       "1      Masters\n",
       "2      Diploma\n",
       "3    Bachelors\n",
       "4    Bachelors\n",
       "5      Masters\n",
       "6          Phd\n",
       "7  High school\n",
       "8  High school"
      ]
     },
     "execution_count": 92,
     "metadata": {},
     "output_type": "execute_result"
    }
   ],
   "source": [
    "df = pd.DataFrame({'Degree':['High school','Masters','Diploma','Bachelors','Bachelors','Masters','Phd','High school','High school']})\n",
    "df.head(10)"
   ]
  },
  {
   "cell_type": "markdown",
   "id": "77098623",
   "metadata": {},
   "source": [
    "*Degree değişkenimiz ordinal olduğu için Ordinal Encoding yaparak veriler arasındaki ilişkiyi koruyarak dönüşümü tamamlayabiliriz.*"
   ]
  },
  {
   "cell_type": "code",
   "execution_count": 91,
   "id": "33983aa1",
   "metadata": {},
   "outputs": [
    {
     "name": "stdout",
     "output_type": "stream",
     "text": [
      "Öncesi:\n",
      "         Degree\n",
      "0  High school\n",
      "1      Masters\n",
      "2      Diploma\n",
      "3    Bachelors\n",
      "4    Bachelors\n",
      "5      Masters\n",
      "6          Phd\n",
      "7  High school\n",
      "8  High school\n",
      "\n",
      "Sonrası:\n",
      "    Degree\n",
      "0       1\n",
      "1       4\n",
      "2       2\n",
      "3       3\n",
      "4       3\n",
      "5       4\n",
      "6       5\n",
      "7       1\n",
      "8       1\n"
     ]
    }
   ],
   "source": [
    "# !pip install category_encoders\n",
    "import category_encoders as ce\n",
    "from sklearn.preprocessing import OrdinalEncoder\n",
    "\n",
    "# Ordinal encoding objesi oluşturuyoruz.\n",
    "# Belirlediğim değerlere göre encoding yapıyorum.\n",
    "encoder= ce.OrdinalEncoder(cols=['Degree'],return_df=True,\n",
    "                           mapping=[{'col':'Degree',\n",
    "'mapping':{'None':0,'High school':1,'Diploma':2,'Bachelors':3,'Masters':4,'Phd':5}}])\n",
    "\n",
    "\n",
    "df_oe = encoder.fit_transform(df)\n",
    "print(\"Öncesi:\\n\",df)\n",
    "print(\"\\nSonrası:\\n\",df_oe)"
   ]
  },
  {
   "cell_type": "code",
   "execution_count": 93,
   "id": "a16ca9a7",
   "metadata": {},
   "outputs": [
    {
     "data": {
      "text/html": [
       "<div>\n",
       "<style scoped>\n",
       "    .dataframe tbody tr th:only-of-type {\n",
       "        vertical-align: middle;\n",
       "    }\n",
       "\n",
       "    .dataframe tbody tr th {\n",
       "        vertical-align: top;\n",
       "    }\n",
       "\n",
       "    .dataframe thead th {\n",
       "        text-align: right;\n",
       "    }\n",
       "</style>\n",
       "<table border=\"1\" class=\"dataframe\">\n",
       "  <thead>\n",
       "    <tr style=\"text-align: right;\">\n",
       "      <th></th>\n",
       "      <th>Degree</th>\n",
       "      <th>Encoding</th>\n",
       "    </tr>\n",
       "  </thead>\n",
       "  <tbody>\n",
       "    <tr>\n",
       "      <th>0</th>\n",
       "      <td>High school</td>\n",
       "      <td>1</td>\n",
       "    </tr>\n",
       "    <tr>\n",
       "      <th>1</th>\n",
       "      <td>Masters</td>\n",
       "      <td>4</td>\n",
       "    </tr>\n",
       "    <tr>\n",
       "      <th>2</th>\n",
       "      <td>Diploma</td>\n",
       "      <td>2</td>\n",
       "    </tr>\n",
       "    <tr>\n",
       "      <th>3</th>\n",
       "      <td>Bachelors</td>\n",
       "      <td>3</td>\n",
       "    </tr>\n",
       "    <tr>\n",
       "      <th>4</th>\n",
       "      <td>Bachelors</td>\n",
       "      <td>3</td>\n",
       "    </tr>\n",
       "    <tr>\n",
       "      <th>5</th>\n",
       "      <td>Masters</td>\n",
       "      <td>4</td>\n",
       "    </tr>\n",
       "    <tr>\n",
       "      <th>6</th>\n",
       "      <td>Phd</td>\n",
       "      <td>5</td>\n",
       "    </tr>\n",
       "    <tr>\n",
       "      <th>7</th>\n",
       "      <td>High school</td>\n",
       "      <td>1</td>\n",
       "    </tr>\n",
       "    <tr>\n",
       "      <th>8</th>\n",
       "      <td>High school</td>\n",
       "      <td>1</td>\n",
       "    </tr>\n",
       "  </tbody>\n",
       "</table>\n",
       "</div>"
      ],
      "text/plain": [
       "        Degree  Encoding\n",
       "0  High school         1\n",
       "1      Masters         4\n",
       "2      Diploma         2\n",
       "3    Bachelors         3\n",
       "4    Bachelors         3\n",
       "5      Masters         4\n",
       "6          Phd         5\n",
       "7  High school         1\n",
       "8  High school         1"
      ]
     },
     "execution_count": 93,
     "metadata": {},
     "output_type": "execute_result"
    }
   ],
   "source": [
    "## Alternatif\n",
    "scale = {'None':0,'High school':1,'Diploma':2,'Bachelors':3,'Masters':4,'Phd':5}\n",
    "df_v2 = df.copy()\n",
    "df_v2[\"Encoding\"] = df[\"Degree\"].replace(scale)\n",
    "df_v2.head(10)"
   ]
  },
  {
   "cell_type": "markdown",
   "id": "9cc0b2eb",
   "metadata": {},
   "source": [
    "**Soru-3: Imbalance datasette train test split yaparken neleri göz önünde bulundurmalıyız?**"
   ]
  },
  {
   "cell_type": "markdown",
   "id": "3b1d021c",
   "metadata": {},
   "source": [
    "*train_test_split metodunu kullanırken verilerin rastgele dağılması önemlidir. Hem train hem de test veri setinde ana verimizdeki sınıflara ait örnekler normal dağılmalıdır. Aksi takdirde modelimiz gelen verileri öğrendiği sınıfa atamaya müsait olacaktır. Bu durumda \"overfitting\" meydana gelir. Bunun önüne geçmek için dengesiz verilerimizdeki hedef değişkenlerin sayısını birbirine benzetmek amacıyla \"oversampling - undersampling\" yapılarak sentetik veri üretilebilir.*"
   ]
  },
  {
   "attachments": {
    "image-2.png": {
     "image/png": "[encoded data removed]"
    }
   },
   "cell_type": "markdown",
   "id": "de508bf4",
   "metadata": {},
   "source": [
    "![image-2.png](attachment:image-2.png)"
   ]
  },
  {
   "cell_type": "markdown",
   "id": "572d74af",
   "metadata": {},
   "source": [
    "**Soru-4: Validation dataseti (modelin görmediği) nasıl oluşturulur ve nasıl predict etmeye hazır hale getirilir?**"
   ]
  },
  {
   "cell_type": "markdown",
   "id": "ce1cdfd3",
   "metadata": {},
   "source": [
    "*Validation verileri, görünmeyen verilere karşı ilk testi sağlayarak veri bilimcilerin modelin yeni verilere dayalı olarak ne kadar iyi tahminler yaptığını değerlendirmelerine olanak tanır. Hem train veri kümelerinde hem de validation veri kümelerinde iyi tahminler gördüğümüzde algoritmanın yalnızca küçük bir veri alt kümesinde değil, yeni veriler üzerinde amaçlandığı gibi çalıştığından emin olabiliriz. Validation verilerini varsa bir tarihe göre sıralayıp, yoksa rastgele seçebiliriz. Train veri setinde yaptığımız tüm encoding, scaling işlemlerini validation veri setimiz içinde yapmalıyız. Aksi takdirde validation datamız ile train datamız arasında fark olacağından dolayı modelimiz başarısız olacaktır. Modelimizi train veri seti üzerinden eğittiğimiz için validation datamızın train datamız ile aynı işlemleri görmüş olması önemlidir. Bu işlemleri validation datamız üzerinde de yaparak predict etmeye hazır hale getirebiliriz.*"
   ]
  },
  {
   "cell_type": "markdown",
   "id": "86081563",
   "metadata": {},
   "source": [
    "**Soru-5: predict_proba metoduyla oran nasıl hesaplanır ve treshold nasıl değiştirilir?**"
   ]
  },
  {
   "cell_type": "code",
   "execution_count": 37,
   "id": "1c0fb5b3",
   "metadata": {},
   "outputs": [
    {
     "data": {
      "text/html": [
       "<div>\n",
       "<style scoped>\n",
       "    .dataframe tbody tr th:only-of-type {\n",
       "        vertical-align: middle;\n",
       "    }\n",
       "\n",
       "    .dataframe tbody tr th {\n",
       "        vertical-align: top;\n",
       "    }\n",
       "\n",
       "    .dataframe thead th {\n",
       "        text-align: right;\n",
       "    }\n",
       "</style>\n",
       "<table border=\"1\" class=\"dataframe\">\n",
       "  <thead>\n",
       "    <tr style=\"text-align: right;\">\n",
       "      <th></th>\n",
       "      <th>Pregnancies</th>\n",
       "      <th>Glucose</th>\n",
       "      <th>BloodPressure</th>\n",
       "      <th>SkinThickness</th>\n",
       "      <th>Insulin</th>\n",
       "      <th>BMI</th>\n",
       "      <th>DiabetesPedigreeFunction</th>\n",
       "      <th>Age</th>\n",
       "      <th>Outcome</th>\n",
       "    </tr>\n",
       "  </thead>\n",
       "  <tbody>\n",
       "    <tr>\n",
       "      <th>0</th>\n",
       "      <td>6</td>\n",
       "      <td>148</td>\n",
       "      <td>72</td>\n",
       "      <td>35</td>\n",
       "      <td>0</td>\n",
       "      <td>33.6</td>\n",
       "      <td>0.627</td>\n",
       "      <td>50</td>\n",
       "      <td>1</td>\n",
       "    </tr>\n",
       "    <tr>\n",
       "      <th>1</th>\n",
       "      <td>1</td>\n",
       "      <td>85</td>\n",
       "      <td>66</td>\n",
       "      <td>29</td>\n",
       "      <td>0</td>\n",
       "      <td>26.6</td>\n",
       "      <td>0.351</td>\n",
       "      <td>31</td>\n",
       "      <td>0</td>\n",
       "    </tr>\n",
       "    <tr>\n",
       "      <th>2</th>\n",
       "      <td>8</td>\n",
       "      <td>183</td>\n",
       "      <td>64</td>\n",
       "      <td>0</td>\n",
       "      <td>0</td>\n",
       "      <td>23.3</td>\n",
       "      <td>0.672</td>\n",
       "      <td>32</td>\n",
       "      <td>1</td>\n",
       "    </tr>\n",
       "    <tr>\n",
       "      <th>3</th>\n",
       "      <td>1</td>\n",
       "      <td>89</td>\n",
       "      <td>66</td>\n",
       "      <td>23</td>\n",
       "      <td>94</td>\n",
       "      <td>28.1</td>\n",
       "      <td>0.167</td>\n",
       "      <td>21</td>\n",
       "      <td>0</td>\n",
       "    </tr>\n",
       "    <tr>\n",
       "      <th>4</th>\n",
       "      <td>0</td>\n",
       "      <td>137</td>\n",
       "      <td>40</td>\n",
       "      <td>35</td>\n",
       "      <td>168</td>\n",
       "      <td>43.1</td>\n",
       "      <td>2.288</td>\n",
       "      <td>33</td>\n",
       "      <td>1</td>\n",
       "    </tr>\n",
       "  </tbody>\n",
       "</table>\n",
       "</div>"
      ],
      "text/plain": [
       "   Pregnancies  Glucose  BloodPressure  SkinThickness  Insulin   BMI  \\\n",
       "0            6      148             72             35        0  33.6   \n",
       "1            1       85             66             29        0  26.6   \n",
       "2            8      183             64              0        0  23.3   \n",
       "3            1       89             66             23       94  28.1   \n",
       "4            0      137             40             35      168  43.1   \n",
       "\n",
       "   DiabetesPedigreeFunction  Age  Outcome  \n",
       "0                     0.627   50        1  \n",
       "1                     0.351   31        0  \n",
       "2                     0.672   32        1  \n",
       "3                     0.167   21        0  \n",
       "4                     2.288   33        1  "
      ]
     },
     "execution_count": 37,
     "metadata": {},
     "output_type": "execute_result"
    }
   ],
   "source": [
    "import pandas as pd\n",
    "from sklearn.linear_model import LogisticRegression\n",
    "df = pd.read_csv(\"C:/Users/ahmet/Datasets/diabetes.csv\")\n",
    "df.head()\n"
   ]
  },
  {
   "cell_type": "code",
   "execution_count": 45,
   "id": "f4311cf8",
   "metadata": {},
   "outputs": [
    {
     "name": "stderr",
     "output_type": "stream",
     "text": [
      "C:\\Users\\ahmet\\anaconda3\\lib\\site-packages\\sklearn\\linear_model\\_logistic.py:763: ConvergenceWarning: lbfgs failed to converge (status=1):\n",
      "STOP: TOTAL NO. of ITERATIONS REACHED LIMIT.\n",
      "\n",
      "Increase the number of iterations (max_iter) or scale the data as shown in:\n",
      "    https://scikit-learn.org/stable/modules/preprocessing.html\n",
      "Please also refer to the documentation for alternative solver options:\n",
      "    https://scikit-learn.org/stable/modules/linear_model.html#logistic-regression\n",
      "  n_iter_i = _check_optimize_result(\n"
     ]
    },
    {
     "data": {
      "text/plain": [
       "array([[447,  53],\n",
       "       [114, 154]], dtype=int64)"
      ]
     },
     "execution_count": 45,
     "metadata": {},
     "output_type": "execute_result"
    }
   ],
   "source": [
    "# Modeli standart olarak ayırıp, threshold değiştirmeden çalıştırdım.\n",
    "from sklearn.metrics import confusion_matrix\n",
    "\n",
    "y = df[\"Outcome\"]\n",
    "X = df.drop([\"Outcome\"],axis=1)\n",
    "\n",
    "loj = LogisticRegression()\n",
    "loj.fit(X,y)\n",
    "\n",
    "y_pred = loj.predict(X)\n",
    "confusion_matrix(y, y_pred)\n",
    "# Köşegenlere baktığımda 53 ve 114 adet hatalı tahmin yapmış."
   ]
  },
  {
   "cell_type": "code",
   "execution_count": 68,
   "id": "4b0d5d73",
   "metadata": {},
   "outputs": [
    {
     "name": "stdout",
     "output_type": "stream",
     "text": [
      "[[0.28902509 0.71097491]\n",
      " [0.94446054 0.05553946]\n",
      " [0.17424735 0.82575265]\n",
      " [0.95494382 0.04505618]\n",
      " [0.04791231 0.95208769]\n",
      " [0.84538677 0.15461323]\n",
      " [0.9294599  0.0705401 ]\n",
      " [0.36818411 0.63181589]\n",
      " [0.36708841 0.63291159]\n",
      " [0.9546172  0.0453828 ]]\n"
     ]
    },
    {
     "data": {
      "text/plain": [
       "array([[431,  69],\n",
       "       [ 96, 172]], dtype=int64)"
      ]
     },
     "execution_count": 68,
     "metadata": {},
     "output_type": "execute_result"
    }
   ],
   "source": [
    "# Şimdi threshold değiştiriyorum.\n",
    "\n",
    "# Burada \"predict_proba\" ile liste halinda [\"0 olma ihtimali\", \"1 olma ihtimali\"] dönüyor.\n",
    "print(loj.predict_proba(X)[0:10])\n",
    "\n",
    "y_probs = loj.predict_proba(X)[:,1] # Sadece 1'e ait olasılıkları aldım.\n",
    "\n",
    "# Burada threshold belirliyorum. Eğer 0.455'dan büyükse 1 değilse 0 al.\n",
    "# threshold = 0.455 oldu.\n",
    "y_pred = [1 if i>0.455 else 0 for i in y_probs] \n",
    "confusion_matrix(y, y_pred)\n",
    "# Threshold değiştirince 69 ve 96 olarak hatalı tahmin sayımız güncellendi.\n"
   ]
  },
  {
   "cell_type": "markdown",
   "id": "271fc978",
   "metadata": {},
   "source": [
    "**Soru-6: Fraud case'i üzerinde train&test&validation split, encoding, scaling,modelleme çalışmaları Python'da yapılarak, modelin görmediği dataset üzerinde başarılı sonuç alacak bir model örneği yapılmalı.**"
   ]
  },
  {
   "cell_type": "code",
   "execution_count": null,
   "id": "6f714ff1",
   "metadata": {},
   "outputs": [],
   "source": []
  }
 ],
 "metadata": {
  "kernelspec": {
   "display_name": "Python 3",
   "language": "python",
   "name": "python3"
  },
  "language_info": {
   "codemirror_mode": {
    "name": "ipython",
    "version": 3
   },
   "file_extension": ".py",
   "mimetype": "text/x-python",
   "name": "python",
   "nbconvert_exporter": "python",
   "pygments_lexer": "ipython3",
   "version": "3.8.8"
  },
  "toc": {
   "base_numbering": 1,
   "nav_menu": {},
   "number_sections": true,
   "sideBar": true,
   "skip_h1_title": false,
   "title_cell": "Table of Contents",
   "title_sidebar": "Contents",
   "toc_cell": false,
   "toc_position": {},
   "toc_section_display": true,
   "toc_window_display": true
  }
 },
 "nbformat": 4,
 "nbformat_minor": 5
}
