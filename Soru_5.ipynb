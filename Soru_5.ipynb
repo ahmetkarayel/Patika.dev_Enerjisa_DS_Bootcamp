{
  "nbformat": 4,
  "nbformat_minor": 0,
  "metadata": {
    "colab": {
      "name": "Soru-5.ipynb",
      "provenance": [],
      "collapsed_sections": []
    },
    "kernelspec": {
      "name": "python3",
      "display_name": "Python 3"
    },
    "language_info": {
      "name": "python"
    }
  },
  "cells": [
    {
      "cell_type": "markdown",
      "metadata": {
        "id": "OewakeZacsaI"
      },
      "source": [
        "# SORU 5"
      ]
    },
    {
      "cell_type": "markdown",
      "metadata": {
        "id": "K8AXNceAcwo8"
      },
      "source": [
        "`5.` **Poisson, Normal , Gamma, Weilbull ve Logaritmik dağılımların benzer ve farklı yönlerini bir tablo halinde çıkaralım.(Araştırma Ödevi)**"
      ]
    },
    {
      "cell_type": "markdown",
      "metadata": {
        "id": "mEVIxICoc30U"
      },
      "source": [
        "## Poisson Dağılımı\n",
        "\n",
        "* Poisson dağılımı, belirli bir aralıkta bir olayın meydana gelme sayısını tanımlar. Örneğin; dakikadaki telefon görüşme sayısı veya bir belgedeki sayfa başına hata sayısı...\n",
        "\n",
        "* Poisson dağılımı altında yatan üç koşul şunlardır;\n",
        "> * Herhangi bir aralıktaki olası oluşumların sayısını sınırsızdır.\n",
        "> * Olaylar bağımsızdır. Bir aralıktaki oluşum sayısı diğer aralıktaki oluşum sayısını etkilemez.\n",
        "> * Ortalama oluşum sayısı aralıktan aralığa aynı kalmalıdır.\n",
        "---\n",
        "## Gamma Dağılımı\n",
        "\n",
        "* Gama dağılımı, çok çeşitli fiziksel nicelikler için geçerlidir ve diğer dağılımlarla ilişkilidir (lognormal, exponential, Pascal, Erlang, Poisson, and chisquare). Örneğin; yapış miktarlarını temsil etmek için meteorolojik süreçlerde kullanılır.  \n",
        "\n",
        "* Gama dağılımı, olay süreci tamamen rastgele olmadığında, olayların meydana gelmesi arasındaki süreyi ölçmek için de kullanılır. Örneğin; Envanter kontrolü, ekonomik teori ve sigorta rist teorisini içerir.  \n",
        "\n",
        "* Gama dağılımı, çoğunlukla bir Poisson sürecinde bir olayın \"r.\" ( r'inci ) defa meydana gelmesine kadar geçen sürenin dağılımı olarak kullanılır. Bu şekilde kullanıldığında, gama dağılımının altında yatan üç koşul şunlardır:  \n",
        "\n",
        "> * Herhangi bir ölçü birimindeki olası oluşumların sayısı sabit bir sayı ile sınırlı değildir.\n",
        "> * Olaylar bağımsızdır. Bir ölçü birimindeki olay sayısı, diğer birimlerdeki olay sayısını etkilemez.\n",
        "> * Ortalama oluşum sayısı birimden birime aynı kalmalıdır.\n",
        "---\n",
        "## Normal Dağılım\n",
        "\n",
        "* Normal dağılım, insanların IQ'ları veya boyları gibi birçok doğal olayı tanımladığı için olasılık teorisindeki en önemli dağılımdır. Karar vericiler, enflasyon oranı veya benzinin gelecekteki fiyatı gibi belirsiz değişkenleri tanımlamak için normal dağılımı kullanırlar.\n",
        "\n",
        "* Normal dağılımın altında yatan üç koşul şunlardır;\n",
        "\n",
        "> * Belirsiz değişkenin bazı değerleri en olası olanıdır (dağılımın ortalaması).\n",
        "> * Belirsiz değişken, ortalamanın altında olabileceği kadar ortalamanın üzerinde de olabilir (ortalama hakkında simetrik).\n",
        "> * Belirsiz değişkenin ortalamanın yakınında olması daha uzak olmasından daha olasıdır.\n",
        "---\n",
        "## Weibull Dağılım\n",
        "\n",
        "* Weibull dağılımı, ömür ve yorulma testlerinden elde edilen verileri tanımlar. Güvenilirlik çalışmalarında hata süresini, güvenilirlik ve kalite kontrol testlerinde malzemelerin kırılma mukavemetlerini tanımlamak için yaygın olarak kullanılır. Weibull dağılımları, rüzgar hızı gibi çeşitli fiziksel nicelikleri temsil etmek için de kullanılır.\n",
        "\n",
        "* Weibull dağılımı, diğer birçok dağılımın özelliklerini üstlenebilen bir dağılım ailesidir.\n",
        "\n",
        "* Weibull dağılımı çok esnektir.\n",
        "---\n",
        "## Logaritmik Dağılım\n",
        "\n",
        "* Logaritmik seri dağılımı veya log serisi dağılımı olarak da bilinir.  \n",
        "* Maclaurin serisi açılımından türetilen bir ayrık olasılık dağılımıdır."
      ]
    },
    {
      "cell_type": "markdown",
      "metadata": {
        "id": "CkNVc6XwLfqj"
      },
      "source": [
        "[Understanding and Choosing Right Probability Distributions](https://onlinelibrary.wiley.com/doi/pdf/10.1002/9781119197096.app03)"
      ]
    },
    {
      "cell_type": "code",
      "metadata": {
        "id": "S4kRShzmLvUv"
      },
      "source": [
        ""
      ],
      "execution_count": null,
      "outputs": []
    }
  ]
}